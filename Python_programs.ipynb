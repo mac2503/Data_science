{
  "nbformat": 4,
  "nbformat_minor": 0,
  "metadata": {
    "colab": {
      "name": "DS_A1.ipynb",
      "provenance": [],
      "collapsed_sections": []
    },
    "kernelspec": {
      "name": "python3",
      "display_name": "Python 3"
    },
    "language_info": {
      "name": "python"
    }
  },
  "cells": [
    {
      "cell_type": "code",
      "metadata": {
        "colab": {
          "base_uri": "https://localhost:8080/"
        },
        "id": "DyWMsCR1wH4h",
        "outputId": "b2e43ab9-fe5b-41b4-dd04-7297da3f2e70"
      },
      "source": [
        "# Q1\n",
        "ans = \"True\"\n",
        "List = []\n",
        "while ans == \"True\":\n",
        "  print(\"Main Menu\")\n",
        "  print(\"1. Insert\")\n",
        "  print(\"2. Delete\")\n",
        "  ch = int(input(\"Enter choice: \"))\n",
        "  if ch == 1:\n",
        "    a = int(input(\"Enter element to be inserted: \"))\n",
        "    List.append(a)\n",
        "  elif ch == 2:\n",
        "    print(\"1. Value\")\n",
        "    print(\"2. Position\")\n",
        "    print(\"3. List slice\")\n",
        "    inp = int(input(\"Enter choice: \"))\n",
        "    if inp == 1:\n",
        "      b = int(input(\"Enter element to be deleted: \"))\n",
        "      List.remove(b)\n",
        "    elif inp == 2:\n",
        "      c = int(input(\"Enter position of element to be deleted: \"))\n",
        "      if c < 0:\n",
        "        print(\"Wrong index entered!\")\n",
        "      elif c > len(List)-1:\n",
        "        print(\"Wrong index entered!\")\n",
        "      else:\n",
        "        del List[c]\n",
        "    elif inp == 3:\n",
        "      d = int(input(\"Enter starting index: \"))\n",
        "      e = int(input(\"Enter ending index: \"))\n",
        "      last = len(List)-1\n",
        "      if d<0 or e<0:\n",
        "        print(\"Wrong index entered!\")\n",
        "      elif d>last or e>last:\n",
        "        print(\"Wrong index entered!\")\n",
        "      else:\n",
        "        del List[d:e+1]\n",
        "    else:\n",
        "      print(\"Wrong choice!\")\n",
        "  else:\n",
        "    print(\"Wrong choice!\")\n",
        "  print(\"List: \")\n",
        "  print(List)\n",
        "  ans = input(\"Do you want to continue? (True/False): \")\n"
      ],
      "execution_count": null,
      "outputs": [
        {
          "output_type": "stream",
          "text": [
            "Main Menu\n",
            "1. Insert\n",
            "2. Delete\n",
            "Enter choice: 1\n",
            "Enter element to be inserted: 3\n",
            "List: \n",
            "[3]\n",
            "Do you want to continue? (True/False): True\n",
            "Main Menu\n",
            "1. Insert\n",
            "2. Delete\n",
            "Enter choice: 1\n",
            "Enter element to be inserted: 6\n",
            "List: \n",
            "[3, 6]\n",
            "Do you want to continue? (True/False): True\n",
            "Main Menu\n",
            "1. Insert\n",
            "2. Delete\n",
            "Enter choice: 1\n",
            "Enter element to be inserted: 9\n",
            "List: \n",
            "[3, 6, 9]\n",
            "Do you want to continue? (True/False): True\n",
            "Main Menu\n",
            "1. Insert\n",
            "2. Delete\n",
            "Enter choice: 2\n",
            "1. Value\n",
            "2. Position\n",
            "3. List slice\n",
            "Enter choice: 3\n",
            "Enter starting index: 0\n",
            "Enter ending index: 1\n",
            "List: \n",
            "[9]\n",
            "Do you want to continue? (True/False): False\n"
          ],
          "name": "stdout"
        }
      ]
    },
    {
      "cell_type": "code",
      "metadata": {
        "colab": {
          "base_uri": "https://localhost:8080/"
        },
        "id": "WaZbjPUr72z7",
        "outputId": "7563f4e0-64e6-4bfb-d447-c2145cb025b4"
      },
      "source": [
        "# Q2\n",
        "list1 = []\n",
        "ans = \"True\"\n",
        "while ans == \"True\":\n",
        "  n = int(input(\"Enter no. of elements: \"))\n",
        "  if n == 1:\n",
        "    inp = int(input(\"Enter no.: \"))\n",
        "    list1.append(inp)\n",
        "  else:\n",
        "    list2 = []\n",
        "    for i in range(0, n):\n",
        "      a = int(input())\n",
        "      list2.append(a)\n",
        "    list1.append(list2)\n",
        "  print(list1)\n",
        "  ans = input(\"Do you want to continue? (True/False): \")"
      ],
      "execution_count": null,
      "outputs": [
        {
          "output_type": "stream",
          "text": [
            "Enter no. of elements: 1\n",
            "Enter no.: 3\n",
            "[3]\n",
            "Do you want to continue? (True/False): True\n",
            "Enter no. of elements: 3\n",
            "6\n",
            "9\n",
            "12\n",
            "[3, [6, 9, 12]]\n",
            "Do you want to continue? (True/False): False\n"
          ],
          "name": "stdout"
        }
      ]
    },
    {
      "cell_type": "code",
      "metadata": {
        "colab": {
          "base_uri": "https://localhost:8080/"
        },
        "id": "ayoDBgGR8IbA",
        "outputId": "6d984d1d-03b9-402d-c299-1528b37f6afc"
      },
      "source": [
        "# Q3\n",
        "list1 = []\n",
        "n = int(input(\"Enter no. of elements: \"))\n",
        "for i in range(0, n):\n",
        "      a = int(input())\n",
        "      list1.append(a)\n",
        "tuple1 = tuple(list1)\n",
        "# print('List: ', list1)\n",
        "print('Tuple: ', tuple1)\n",
        "list4 = []\n",
        "for j in range(2, 9, 2):\n",
        "  list4.append(list1[j])\n",
        "# print(list1)\n",
        "# print(list4)\n",
        "tuple3 = tuple(list4)\n",
        "list2 = list1\n",
        "list2.reverse()\n",
        "# print(list2)\n",
        "list3 = []\n",
        "for i in range(0, n, 3):\n",
        "  list3.append(list2[i])\n",
        "tuple2 = tuple(list3)\n",
        "print(tuple2)\n",
        "print(tuple3)"
      ],
      "execution_count": null,
      "outputs": [
        {
          "output_type": "stream",
          "text": [
            "Enter no. of elements: 10\n",
            "1\n",
            "2\n",
            "3\n",
            "4\n",
            "5\n",
            "6\n",
            "7\n",
            "8\n",
            "9\n",
            "10\n",
            "Tuple:  (1, 2, 3, 4, 5, 6, 7, 8, 9, 10)\n",
            "(10, 7, 4, 1)\n",
            "(3, 5, 7, 9)\n"
          ],
          "name": "stdout"
        }
      ]
    },
    {
      "cell_type": "code",
      "metadata": {
        "colab": {
          "base_uri": "https://localhost:8080/"
        },
        "id": "tekl0vrcoO7H",
        "outputId": "bd3fc662-9f2e-4c7b-f266-237c03efab77"
      },
      "source": [
        "# Q4\n",
        "n = int(input(\"Enter no. of students: \"))\n",
        "list1 = []\n",
        "for i in range(0, n):\n",
        "  a = input()\n",
        "  list1.append(a)\n",
        "emails = tuple(list1)\n",
        "# print(list1)\n",
        "print(emails)\n",
        "un = []\n",
        "dom = []\n",
        "for i in range(0, n):\n",
        "  temp = list1[i].split(\"@\")\n",
        "  un.append(temp[0])\n",
        "  dom.append(temp[1])\n",
        "username = tuple(un)\n",
        "domain = tuple(dom)\n",
        "print(username)\n",
        "print(domain)"
      ],
      "execution_count": null,
      "outputs": [
        {
          "output_type": "stream",
          "text": [
            "Enter no. of students: 3\n",
            "mahekkhowala@gmail.com\n",
            "khowalamahek@yahoo.com\n",
            "mkhowala_be19@thapar.edu\n",
            "('mahekkhowala@gmail.com', 'khowalamahek@yahoo.com', 'mkhowala_be19@thapar.edu')\n",
            "('mahekkhowala', 'khowalamahek', 'mkhowala_be19')\n",
            "('gmail.com', 'yahoo.com', 'thapar.edu')\n"
          ],
          "name": "stdout"
        }
      ]
    },
    {
      "cell_type": "code",
      "metadata": {
        "colab": {
          "base_uri": "https://localhost:8080/"
        },
        "id": "crPgzacBV9dV",
        "outputId": "052b8247-5e7a-4d96-eb04-78add9afb8a2"
      },
      "source": [
        "# Q5\n",
        "d = {}\n",
        "n = int(input(\"Enter the no. of winners: \"))\n",
        "for i in range(0, n):\n",
        "  a = input(\"Enter name of winner: \")\n",
        "  b = int(input(\"Enter the no. of medals won: \"))\n",
        "  d[a] = b\n",
        "for a in d:\n",
        "  print(a, \" \", d[a])"
      ],
      "execution_count": null,
      "outputs": [
        {
          "output_type": "stream",
          "text": [
            "Enter the no. of winners: 3\n",
            "Enter name of winner: Mary Kom\n",
            "Enter the no. of medals won: 3\n",
            "Enter name of winner: Saina Nehwal\n",
            "Enter the no. of medals won: 6\n",
            "Enter name of winner: Sania Mirza\n",
            "Enter the no. of medals won: 9\n",
            "Mary Kom   3\n",
            "Saina Nehwal   6\n",
            "Sania Mirza   9\n"
          ],
          "name": "stdout"
        }
      ]
    },
    {
      "cell_type": "code",
      "metadata": {
        "colab": {
          "base_uri": "https://localhost:8080/"
        },
        "id": "ThxS7DL9XfO-",
        "outputId": "0ac18533-6d6e-40e7-e8af-a58fe6900882"
      },
      "source": [
        "# Q6\n",
        "dict1={\n",
        "       0: 'Zero', \n",
        "       1: 'One',\n",
        "       2: 'Two',\n",
        "       3: 'Three'\n",
        "       }\n",
        "str = input(\"Enter value: \")\n",
        "flag = 0\n",
        "for key, value in dict1.items():\n",
        "  if value == str:\n",
        "    print(\"Corresponding key: \", key)\n",
        "    flag = 1\n",
        "if flag == 0:\n",
        "  print(\"Error: Given value doesn't exist!\")"
      ],
      "execution_count": null,
      "outputs": [
        {
          "output_type": "stream",
          "text": [
            "Enter value: Three\n",
            "Corresponding key:  3\n"
          ],
          "name": "stdout"
        }
      ]
    },
    {
      "cell_type": "code",
      "metadata": {
        "colab": {
          "base_uri": "https://localhost:8080/"
        },
        "id": "iLEod2QFXzKE",
        "outputId": "cdc5f2cc-17c8-4d64-854a-808a9f9ca277"
      },
      "source": [
        "# Q7\n",
        "n = int(input(\"Enter no. of students: \"))\n",
        "d = {} \n",
        "for i in range(0, n): \n",
        "    rollno = int(input(\"Enter roll no.: \")) \n",
        "    name = input(\"Enter name: \") \n",
        "    marks = int(input(\"Enter marks: \")) \n",
        "    d[rollno] = [name, marks]\n",
        "for i in d: \n",
        "  if(d[i][1]>75): \n",
        "    print(d[i][0]) "
      ],
      "execution_count": null,
      "outputs": [
        {
          "output_type": "stream",
          "text": [
            "Enter no. of students: 3\n",
            "Enter roll no.: 3\n",
            "Enter name: Mahek Khowala\n",
            "Enter marks: 90\n",
            "Enter roll no.: 6\n",
            "Enter name: Shaina Sood\n",
            "Enter marks: 72\n",
            "Enter roll no.: 9\n",
            "Enter name: Nikita Khowala\n",
            "Enter marks: 78\n",
            "Mahek Khowala\n",
            "Nikita Khowala\n"
          ],
          "name": "stdout"
        }
      ]
    },
    {
      "cell_type": "code",
      "metadata": {
        "colab": {
          "base_uri": "https://localhost:8080/"
        },
        "id": "zVOQ8q9kZI8W",
        "outputId": "3a0b13ef-69f1-4d55-b556-94b156c023bb"
      },
      "source": [
        "# Q8\n",
        "d = {}\n",
        "text = input(\"Enter sentence: \")\n",
        "ltext = text.lower()\n",
        "# print(ltext)\n",
        "for i in ltext:\n",
        "  temp = d.keys()\n",
        "  if i in temp and ((i >= 'a' and i <= 'z') or (i >= '0' and i <= '9')):\n",
        "    if (i >= '0' and i <= '9'):\n",
        "      a = int(i)\n",
        "      d[a] += 1\n",
        "    else:\n",
        "      d[i] += 1\n",
        "  elif ((i >= 'a' and i <= 'z') or (i >= '0' and i <= '9')):\n",
        "    if (i >= '0' and i <= '9'):\n",
        "      a = int(i)\n",
        "      d[a] = 1\n",
        "    else:\n",
        "      d[i] = 1\n",
        "print(d)"
      ],
      "execution_count": null,
      "outputs": [
        {
          "output_type": "stream",
          "text": [
            "Enter sentence: My name is Mahek Khowala and my roll number is 3 \n",
            "{'m': 5, 'y': 2, 'n': 3, 'a': 5, 'e': 3, 'i': 2, 's': 2, 'h': 2, 'k': 2, 'o': 2, 'w': 1, 'l': 3, 'd': 1, 'r': 2, 'u': 1, 'b': 1, 3: 1}\n"
          ],
          "name": "stdout"
        }
      ]
    },
    {
      "cell_type": "code",
      "metadata": {
        "colab": {
          "base_uri": "https://localhost:8080/"
        },
        "id": "PzkuCGDffHoE",
        "outputId": "5402f8cf-9c06-421f-c7e2-586db51b2ecb"
      },
      "source": [
        "# Q9\n",
        "str = input(\"Enter string: \")\n",
        "n = len(str)\n",
        "maxlen = 0\n",
        "strlen = 0\n",
        "fin = \"\"\n",
        "sub = \"\"\n",
        "for i in range(n):\n",
        "  if str[i] in 'aeiou' or str[i] in 'AEIOU':\n",
        "    if strlen > maxlen:\n",
        "      fin = sub\n",
        "      maxlen = strlen\n",
        "    sub = \"\"\n",
        "    strlen = 0\n",
        "  else:\n",
        "    sub += str[i]\n",
        "    strlen = len(sub)\n",
        "if strlen >= maxlen:\n",
        "  maxlen = strlen\n",
        "  fin = sub\n",
        "print(\"Longest substring having just consonants:\" , fin)\n",
        "print(\"Length: \", maxlen)"
      ],
      "execution_count": null,
      "outputs": [
        {
          "output_type": "stream",
          "text": [
            "Enter string: qwertykeyboard\n",
            "Longest substring having just consonants: rtyk\n",
            "Length:  4\n"
          ],
          "name": "stdout"
        }
      ]
    },
    {
      "cell_type": "code",
      "metadata": {
        "colab": {
          "base_uri": "https://localhost:8080/"
        },
        "id": "5EcQzQ7Zflpe",
        "outputId": "8f9745e1-46c0-4c7a-cd17-c3dadf0cbaab"
      },
      "source": [
        "# Q10\n",
        "str = input(\"Enter string: \")\n",
        "upper = 0\n",
        "alphabets = 0\n",
        "symbols = 0\n",
        "digits = 0\n",
        "lower = 0\n",
        "for i in str:\n",
        "  if (i >= 'A' and i <= 'Z'):\n",
        "    upper += 1\n",
        "  elif (i >= 'a' and i <= 'z'):\n",
        "    lower += 1\n",
        "  elif (i >= '0' and i <= '9'):\n",
        "    digits += 1\n",
        "  if ((i >= 'A' and i <= 'Z') or (i >= 'a' and i <= 'z')):\n",
        "    alphabets += 1\n",
        "  elif (i != ' '):\n",
        "    if (i >= '0' and i <= '9'):\n",
        "      symbols = symbols\n",
        "    else:\n",
        "      symbols += 1\n",
        "print(\"Number of upper case letters: \", upper)\n",
        "print(\"Number of alphabets: \", alphabets)\n",
        "print(\"Number of symbols: \", symbols)\n",
        "print(\"Number of digits: \", digits)\n",
        "print(\"Number of lower case letters: \", lower)"
      ],
      "execution_count": null,
      "outputs": [
        {
          "output_type": "stream",
          "text": [
            "Enter string: My name is Mahek and my roll number is 3!\n",
            "Number of upper case letters:  2\n",
            "Number of alphabets:  30\n",
            "Number of symbols:  1\n",
            "Number of digits:  1\n",
            "Number of lower case letters:  28\n"
          ],
          "name": "stdout"
        }
      ]
    }
  ]
}