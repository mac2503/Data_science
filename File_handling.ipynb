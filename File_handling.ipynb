{
  "nbformat": 4,
  "nbformat_minor": 0,
  "metadata": {
    "colab": {
      "name": "DS_A5.ipynb",
      "provenance": [],
      "collapsed_sections": []
    },
    "kernelspec": {
      "name": "python3",
      "display_name": "Python 3"
    },
    "language_info": {
      "name": "python"
    }
  },
  "cells": [
    {
      "cell_type": "code",
      "metadata": {
        "colab": {
          "base_uri": "https://localhost:8080/"
        },
        "id": "2yqQwo8Mojri",
        "outputId": "f35971cd-13f4-4131-bf80-5a9837ef4b7a"
      },
      "source": [
        "# Q1\n",
        "file1 = open(\"/content/drive/MyDrive/Data Science Practical/file.txt\", \"r\")\n",
        "str1 = file1.read()\n",
        "print(str1)\n",
        "count =  0\n",
        "for i in str1:\n",
        "  if( i=='A' or i=='a' or i=='E' or i=='e' or i=='I' or i=='i' or i=='O' or i=='o' or i=='U' or i=='u'):\n",
        "    count = count+1\n",
        "print('No. of vowels in text file: ', count)\n",
        "file1.close()"
      ],
      "execution_count": null,
      "outputs": [
        {
          "output_type": "stream",
          "name": "stdout",
          "text": [
            "Hi! My name is Mahek Khowala. My roll no. is 101903567. I am from batch 3CO22.\n",
            "No. of vowels in text file:  17\n"
          ]
        }
      ]
    },
    {
      "cell_type": "code",
      "metadata": {
        "colab": {
          "base_uri": "https://localhost:8080/"
        },
        "id": "_7dAogvRAmog",
        "outputId": "7816cc0c-a89d-4165-d8a0-c033fb0f11b7"
      },
      "source": [
        "# Q2\n",
        "file1 = open('/content/drive/MyDrive/Data Science Practical/file.txt', 'r')\n",
        "file2 = open('/content/drive/MyDrive/Data Science Practical/copy_file.txt', 'w')\n",
        "str1 = file1.read()\n",
        "print(str1)\n",
        "list1 = []\n",
        "for i in range(0, len(str1)):\n",
        "    if (str1[i]!=' '):\n",
        "      list1.append(str1[i])\n",
        "    else:\n",
        "      pass\n",
        "print(list1)\n",
        "for i in range(0, len(list1)):\n",
        "  if (i%2 == 0):\n",
        "    file2.write(list1[i])\n",
        "file2.close()\n",
        "file2 = open('/content/drive/MyDrive/Data Science Practical/copy_file.txt', 'r')\n",
        "str2 = file2.read()\n",
        "print(str2)\n",
        "file1.close()\n",
        "file2.close()"
      ],
      "execution_count": null,
      "outputs": [
        {
          "output_type": "stream",
          "name": "stdout",
          "text": [
            "Hi! My name is Mahek Khowala. My roll no. is 101903567. I am from batch 3CO22.\n",
            "['H', 'i', '!', 'M', 'y', 'n', 'a', 'm', 'e', 'i', 's', 'M', 'a', 'h', 'e', 'k', 'K', 'h', 'o', 'w', 'a', 'l', 'a', '.', 'M', 'y', 'r', 'o', 'l', 'l', 'n', 'o', '.', 'i', 's', '1', '0', '1', '9', '0', '3', '5', '6', '7', '.', 'I', 'a', 'm', 'f', 'r', 'o', 'm', 'b', 'a', 't', 'c', 'h', '3', 'C', 'O', '2', '2', '.']\n",
            "H!yaesaeKoaaMrln.s0936.afobthC2.\n"
          ]
        }
      ]
    },
    {
      "cell_type": "code",
      "metadata": {
        "colab": {
          "base_uri": "https://localhost:8080/"
        },
        "id": "ese0Wdx9FSXg",
        "outputId": "09f388d5-1026-499d-c706-674d2a6256c6"
      },
      "source": [
        "# Q3\n",
        "file1 = open('/content/drive/MyDrive/Data Science Practical/line_file.txt', 'r')\n",
        "file2 = open('/content/drive/MyDrive/Data Science Practical/copy_line_file.txt', 'w')\n",
        "content = file1.readlines()\n",
        "print(content)\n",
        "for i in range(0, len(content)):\n",
        "    if(i%2 == 0):\n",
        "      file2.write(content[i])\n",
        "    else:\n",
        "      pass\n",
        "file2.close()\n",
        "file2 = open('/content/drive/MyDrive/Data Science Practical/copy_line_file.txt', 'r')\n",
        "content2 = file2.read()\n",
        "print(content2)\n",
        "file1.close()\n",
        "file2.close()"
      ],
      "execution_count": null,
      "outputs": [
        {
          "output_type": "stream",
          "name": "stdout",
          "text": [
            "['My\\n', 'Name\\n', 'Is \\n', 'Mahek\\n', 'Khowala\\n', 'This\\n', 'Is\\n', 'A\\n', 'Text\\n', 'File']\n",
            "My\n",
            "Is \n",
            "Khowala\n",
            "Is\n",
            "Text\n",
            "\n"
          ]
        }
      ]
    },
    {
      "cell_type": "code",
      "metadata": {
        "colab": {
          "base_uri": "https://localhost:8080/"
        },
        "id": "jUO1EnXLLf7N",
        "outputId": "ddb3c59b-0f27-403c-9e8f-06565ca2dc21"
      },
      "source": [
        "# Q4\n",
        "file1 = open('/content/drive/MyDrive/Data Science Practical/line_char_file.txt', 'r')\n",
        "file2 = open('/content/drive/MyDrive/Data Science Practical/copy_line_char_file.txt', 'w')\n",
        "content = file1.readlines()\n",
        "print(content)\n",
        "for i in range(0, len(content)):\n",
        "    if(len(content[i])>50):\n",
        "      file2.write(content[i])\n",
        "    else:\n",
        "      pass\n",
        "file2.close()\n",
        "file2 = open('/content/drive/MyDrive/Data Science Practical/copy_line_char_file.txt', 'r')\n",
        "content2 = file2.read()\n",
        "print(content2)\n",
        "file1.close()\n",
        "file2.close()"
      ],
      "execution_count": null,
      "outputs": [
        {
          "output_type": "stream",
          "name": "stdout",
          "text": [
            "['A paragraph is a group of words put together to form a group that is usually longer than a sentence. Paragraphs are often made up of several sentences. There are usually between three and eight sentences.\\n', 'Paragraphs can begin with an indentation (about five spaces), or by missing a line out, and then starting again.\\n', 'This makes it easier to see when one paragraph ends and another begins.\\n', 'This is a line.\\n', 'This is not of 50 characters.']\n",
            "A paragraph is a group of words put together to form a group that is usually longer than a sentence. Paragraphs are often made up of several sentences. There are usually between three and eight sentences.\n",
            "Paragraphs can begin with an indentation (about five spaces), or by missing a line out, and then starting again.\n",
            "This makes it easier to see when one paragraph ends and another begins.\n",
            "\n"
          ]
        }
      ]
    },
    {
      "cell_type": "code",
      "metadata": {
        "colab": {
          "base_uri": "https://localhost:8080/",
          "height": 355
        },
        "id": "J4mNdBu3R0cp",
        "outputId": "a231c40a-6e4f-4257-e889-c7ffe580f79e"
      },
      "source": [
        "# Q5\n",
        "import pandas\n",
        "from collections import Counter\n",
        "\n",
        "file1 = open('/content/drive/MyDrive/Data Science Practical/file.txt', 'r')\n",
        "str1 = file1.read()\n",
        "print(str1)\n",
        "list1 = []\n",
        "for i in range(0, len(str1)):\n",
        "    if (str1[i]!=' '):\n",
        "      list1.append(str1[i])\n",
        "    else:\n",
        "      pass\n",
        "print(list1)\n",
        "letter_counts = Counter(list1)\n",
        "print(letter_counts)\n",
        "df = pandas.DataFrame.from_dict(letter_counts, orient='index')\n",
        "df.plot(kind='bar')"
      ],
      "execution_count": null,
      "outputs": [
        {
          "output_type": "stream",
          "name": "stdout",
          "text": [
            "Hi! My name is Mahek Khowala. My roll no. is 101903567. I am from batch 3CO22.\n",
            "['H', 'i', '!', 'M', 'y', 'n', 'a', 'm', 'e', 'i', 's', 'M', 'a', 'h', 'e', 'k', 'K', 'h', 'o', 'w', 'a', 'l', 'a', '.', 'M', 'y', 'r', 'o', 'l', 'l', 'n', 'o', '.', 'i', 's', '1', '0', '1', '9', '0', '3', '5', '6', '7', '.', 'I', 'a', 'm', 'f', 'r', 'o', 'm', 'b', 'a', 't', 'c', 'h', '3', 'C', 'O', '2', '2', '.']\n",
            "Counter({'a': 6, 'o': 4, '.': 4, 'i': 3, 'M': 3, 'm': 3, 'h': 3, 'l': 3, 'y': 2, 'n': 2, 'e': 2, 's': 2, 'r': 2, '1': 2, '0': 2, '3': 2, '2': 2, 'H': 1, '!': 1, 'k': 1, 'K': 1, 'w': 1, '9': 1, '5': 1, '6': 1, '7': 1, 'I': 1, 'f': 1, 'b': 1, 't': 1, 'c': 1, 'C': 1, 'O': 1})\n"
          ]
        },
        {
          "output_type": "execute_result",
          "data": {
            "text/plain": [
              "<matplotlib.axes._subplots.AxesSubplot at 0x7eff3494a850>"
            ]
          },
          "metadata": {},
          "execution_count": 56
        },
        {
          "output_type": "display_data",
          "data": {
            "image/png": "[encoded data removed]",
            "text/plain": [
              "<Figure size 432x288 with 1 Axes>"
            ]
          },
          "metadata": {
            "needs_background": "light"
          }
        }
      ]
    },
    {
      "cell_type": "code",
      "metadata": {
        "colab": {
          "base_uri": "https://localhost:8080/",
          "height": 423
        },
        "id": "Lw2oVNQ7-mXK",
        "outputId": "01b85dec-42c7-4c63-f34c-8e63f715062e"
      },
      "source": [
        "# Q6\n",
        "import numpy as np\n",
        "import pandas as pd\n",
        "df = pd.read_csv(r'/content/drive/MyDrive/Data Science Practical/Irisnew.csv')\n",
        "df"
      ],
      "execution_count": null,
      "outputs": [
        {
          "output_type": "execute_result",
          "data": {
            "text/html": [
              "<div>\n",
              "<style scoped>\n",
              "    .dataframe tbody tr th:only-of-type {\n",
              "        vertical-align: middle;\n",
              "    }\n",
              "\n",
              "    .dataframe tbody tr th {\n",
              "        vertical-align: top;\n",
              "    }\n",
              "\n",
              "    .dataframe thead th {\n",
              "        text-align: right;\n",
              "    }\n",
              "</style>\n",
              "<table border=\"1\" class=\"dataframe\">\n",
              "  <thead>\n",
              "    <tr style=\"text-align: right;\">\n",
              "      <th></th>\n",
              "      <th>SepalLength</th>\n",
              "      <th>SepalWidth</th>\n",
              "      <th>PetalLength</th>\n",
              "      <th>PetalWidth</th>\n",
              "      <th>Species</th>\n",
              "    </tr>\n",
              "  </thead>\n",
              "  <tbody>\n",
              "    <tr>\n",
              "      <th>0</th>\n",
              "      <td>5.1</td>\n",
              "      <td>3.5</td>\n",
              "      <td>1.4</td>\n",
              "      <td>0.2</td>\n",
              "      <td>Iris-setosa</td>\n",
              "    </tr>\n",
              "    <tr>\n",
              "      <th>1</th>\n",
              "      <td>4.9</td>\n",
              "      <td>3.0</td>\n",
              "      <td>1.4</td>\n",
              "      <td>0.2</td>\n",
              "      <td>Iris-setosa</td>\n",
              "    </tr>\n",
              "    <tr>\n",
              "      <th>2</th>\n",
              "      <td>4.7</td>\n",
              "      <td>3.2</td>\n",
              "      <td>1.3</td>\n",
              "      <td>0.2</td>\n",
              "      <td>Iris-setosa</td>\n",
              "    </tr>\n",
              "    <tr>\n",
              "      <th>3</th>\n",
              "      <td>4.6</td>\n",
              "      <td>3.1</td>\n",
              "      <td>1.5</td>\n",
              "      <td>0.2</td>\n",
              "      <td>Iris-setosa</td>\n",
              "    </tr>\n",
              "    <tr>\n",
              "      <th>4</th>\n",
              "      <td>5.0</td>\n",
              "      <td>3.6</td>\n",
              "      <td>1.4</td>\n",
              "      <td>0.2</td>\n",
              "      <td>Iris-setosa</td>\n",
              "    </tr>\n",
              "    <tr>\n",
              "      <th>...</th>\n",
              "      <td>...</td>\n",
              "      <td>...</td>\n",
              "      <td>...</td>\n",
              "      <td>...</td>\n",
              "      <td>...</td>\n",
              "    </tr>\n",
              "    <tr>\n",
              "      <th>145</th>\n",
              "      <td>6.7</td>\n",
              "      <td>3.0</td>\n",
              "      <td>5.2</td>\n",
              "      <td>2.3</td>\n",
              "      <td>Iris-virginica</td>\n",
              "    </tr>\n",
              "    <tr>\n",
              "      <th>146</th>\n",
              "      <td>6.3</td>\n",
              "      <td>2.5</td>\n",
              "      <td>5.0</td>\n",
              "      <td>1.9</td>\n",
              "      <td>Iris-virginica</td>\n",
              "    </tr>\n",
              "    <tr>\n",
              "      <th>147</th>\n",
              "      <td>6.5</td>\n",
              "      <td>3.0</td>\n",
              "      <td>5.2</td>\n",
              "      <td>2.0</td>\n",
              "      <td>Iris-virginica</td>\n",
              "    </tr>\n",
              "    <tr>\n",
              "      <th>148</th>\n",
              "      <td>6.2</td>\n",
              "      <td>3.4</td>\n",
              "      <td>5.4</td>\n",
              "      <td>2.3</td>\n",
              "      <td>Iris-virginica</td>\n",
              "    </tr>\n",
              "    <tr>\n",
              "      <th>149</th>\n",
              "      <td>5.9</td>\n",
              "      <td>3.0</td>\n",
              "      <td>5.1</td>\n",
              "      <td>1.8</td>\n",
              "      <td>Iris-virginica</td>\n",
              "    </tr>\n",
              "  </tbody>\n",
              "</table>\n",
              "<p>150 rows × 5 columns</p>\n",
              "</div>"
            ],
            "text/plain": [
              "     SepalLength  SepalWidth  PetalLength  PetalWidth         Species\n",
              "0            5.1         3.5          1.4         0.2     Iris-setosa\n",
              "1            4.9         3.0          1.4         0.2     Iris-setosa\n",
              "2            4.7         3.2          1.3         0.2     Iris-setosa\n",
              "3            4.6         3.1          1.5         0.2     Iris-setosa\n",
              "4            5.0         3.6          1.4         0.2     Iris-setosa\n",
              "..           ...         ...          ...         ...             ...\n",
              "145          6.7         3.0          5.2         2.3  Iris-virginica\n",
              "146          6.3         2.5          5.0         1.9  Iris-virginica\n",
              "147          6.5         3.0          5.2         2.0  Iris-virginica\n",
              "148          6.2         3.4          5.4         2.3  Iris-virginica\n",
              "149          5.9         3.0          5.1         1.8  Iris-virginica\n",
              "\n",
              "[150 rows x 5 columns]"
            ]
          },
          "metadata": {},
          "execution_count": 5
        }
      ]
    },
    {
      "cell_type": "code",
      "metadata": {
        "colab": {
          "base_uri": "https://localhost:8080/"
        },
        "id": "8VwFAS3X_FWp",
        "outputId": "3367d165-f1ef-4ecf-b3cc-514b657fa46f"
      },
      "source": [
        "sl = df['SepalLength'].tolist()\n",
        "sl"
      ],
      "execution_count": null,
      "outputs": [
        {
          "output_type": "execute_result",
          "data": {
            "text/plain": [
              "[5.1,\n",
              " 4.9,\n",
              " 4.7,\n",
              " 4.6,\n",
              " 5.0,\n",
              " 5.4,\n",
              " 4.6,\n",
              " 5.0,\n",
              " 4.4,\n",
              " 4.9,\n",
              " 5.4,\n",
              " 4.8,\n",
              " 4.8,\n",
              " 4.3,\n",
              " 5.8,\n",
              " 5.7,\n",
              " 5.4,\n",
              " 5.1,\n",
              " 5.7,\n",
              " 5.1,\n",
              " 5.4,\n",
              " 5.1,\n",
              " 4.6,\n",
              " 5.1,\n",
              " 4.8,\n",
              " 5.0,\n",
              " 5.0,\n",
              " 5.2,\n",
              " 5.2,\n",
              " 4.7,\n",
              " 4.8,\n",
              " 5.4,\n",
              " 5.2,\n",
              " 5.5,\n",
              " 4.9,\n",
              " 5.0,\n",
              " 5.5,\n",
              " 4.9,\n",
              " 4.4,\n",
              " 5.1,\n",
              " 5.0,\n",
              " 4.5,\n",
              " 4.4,\n",
              " 5.0,\n",
              " 5.1,\n",
              " 4.8,\n",
              " 5.1,\n",
              " 4.6,\n",
              " 5.3,\n",
              " 5.0,\n",
              " 7.0,\n",
              " 6.4,\n",
              " 6.9,\n",
              " 5.5,\n",
              " 6.5,\n",
              " 5.7,\n",
              " 6.3,\n",
              " 4.9,\n",
              " 6.6,\n",
              " 5.2,\n",
              " 5.0,\n",
              " 5.9,\n",
              " 6.0,\n",
              " 6.1,\n",
              " 5.6,\n",
              " 6.7,\n",
              " 5.6,\n",
              " 5.8,\n",
              " 6.2,\n",
              " 5.6,\n",
              " 5.9,\n",
              " 6.1,\n",
              " 6.3,\n",
              " 6.1,\n",
              " 6.4,\n",
              " 6.6,\n",
              " 6.8,\n",
              " 6.7,\n",
              " 6.0,\n",
              " 5.7,\n",
              " 5.5,\n",
              " 5.5,\n",
              " 5.8,\n",
              " 6.0,\n",
              " 5.4,\n",
              " 6.0,\n",
              " 6.7,\n",
              " 6.3,\n",
              " 5.6,\n",
              " 5.5,\n",
              " 5.5,\n",
              " 6.1,\n",
              " 5.8,\n",
              " 5.0,\n",
              " 5.6,\n",
              " 5.7,\n",
              " 5.7,\n",
              " 6.2,\n",
              " 5.1,\n",
              " 5.7,\n",
              " 6.3,\n",
              " 5.8,\n",
              " 7.1,\n",
              " 6.3,\n",
              " 6.5,\n",
              " 7.6,\n",
              " 4.9,\n",
              " 7.3,\n",
              " 6.7,\n",
              " 7.2,\n",
              " 6.5,\n",
              " 6.4,\n",
              " 6.8,\n",
              " 5.7,\n",
              " 5.8,\n",
              " 6.4,\n",
              " 6.5,\n",
              " 7.7,\n",
              " 7.7,\n",
              " 6.0,\n",
              " 6.9,\n",
              " 5.6,\n",
              " 7.7,\n",
              " 6.3,\n",
              " 6.7,\n",
              " 7.2,\n",
              " 6.2,\n",
              " 6.1,\n",
              " 6.4,\n",
              " 7.2,\n",
              " 7.4,\n",
              " 7.9,\n",
              " 6.4,\n",
              " 6.3,\n",
              " 6.1,\n",
              " 7.7,\n",
              " 6.3,\n",
              " 6.4,\n",
              " 6.0,\n",
              " 6.9,\n",
              " 6.7,\n",
              " 6.9,\n",
              " 5.8,\n",
              " 6.8,\n",
              " 6.7,\n",
              " 6.7,\n",
              " 6.3,\n",
              " 6.5,\n",
              " 6.2,\n",
              " 5.9]"
            ]
          },
          "metadata": {},
          "execution_count": 6
        }
      ]
    },
    {
      "cell_type": "code",
      "metadata": {
        "colab": {
          "base_uri": "https://localhost:8080/"
        },
        "id": "K2K4kFKPAEz8",
        "outputId": "9a11379a-a8fc-4e6d-f865-be9e26d1520a"
      },
      "source": [
        "sw = df['SepalWidth'].tolist()\n",
        "sw"
      ],
      "execution_count": null,
      "outputs": [
        {
          "output_type": "execute_result",
          "data": {
            "text/plain": [
              "[3.5,\n",
              " 3.0,\n",
              " 3.2,\n",
              " 3.1,\n",
              " 3.6,\n",
              " 3.9,\n",
              " 3.4,\n",
              " 3.4,\n",
              " 2.9,\n",
              " 3.1,\n",
              " 3.7,\n",
              " 3.4,\n",
              " 3.0,\n",
              " 3.0,\n",
              " 4.0,\n",
              " 4.4,\n",
              " 3.9,\n",
              " 3.5,\n",
              " 3.8,\n",
              " 3.8,\n",
              " 3.4,\n",
              " 3.7,\n",
              " 3.6,\n",
              " 3.3,\n",
              " 3.4,\n",
              " 3.0,\n",
              " 3.4,\n",
              " 3.5,\n",
              " 3.4,\n",
              " 3.2,\n",
              " 3.1,\n",
              " 3.4,\n",
              " 4.1,\n",
              " 4.2,\n",
              " 3.1,\n",
              " 3.2,\n",
              " 3.5,\n",
              " 3.1,\n",
              " 3.0,\n",
              " 3.4,\n",
              " 3.5,\n",
              " 2.3,\n",
              " 3.2,\n",
              " 3.5,\n",
              " 3.8,\n",
              " 3.0,\n",
              " 3.8,\n",
              " 3.2,\n",
              " 3.7,\n",
              " 3.3,\n",
              " 3.2,\n",
              " 3.2,\n",
              " 3.1,\n",
              " 2.3,\n",
              " 2.8,\n",
              " 2.8,\n",
              " 3.3,\n",
              " 2.4,\n",
              " 2.9,\n",
              " 2.7,\n",
              " 2.0,\n",
              " 3.0,\n",
              " 2.2,\n",
              " 2.9,\n",
              " 2.9,\n",
              " 3.1,\n",
              " 3.0,\n",
              " 2.7,\n",
              " 2.2,\n",
              " 2.5,\n",
              " 3.2,\n",
              " 2.8,\n",
              " 2.5,\n",
              " 2.8,\n",
              " 2.9,\n",
              " 3.0,\n",
              " 2.8,\n",
              " 3.0,\n",
              " 2.9,\n",
              " 2.6,\n",
              " 2.4,\n",
              " 2.4,\n",
              " 2.7,\n",
              " 2.7,\n",
              " 3.0,\n",
              " 3.4,\n",
              " 3.1,\n",
              " 2.3,\n",
              " 3.0,\n",
              " 2.5,\n",
              " 2.6,\n",
              " 3.0,\n",
              " 2.6,\n",
              " 2.3,\n",
              " 2.7,\n",
              " 3.0,\n",
              " 2.9,\n",
              " 2.9,\n",
              " 2.5,\n",
              " 2.8,\n",
              " 3.3,\n",
              " 2.7,\n",
              " 3.0,\n",
              " 2.9,\n",
              " 3.0,\n",
              " 3.0,\n",
              " 2.5,\n",
              " 2.9,\n",
              " 2.5,\n",
              " 3.6,\n",
              " 3.2,\n",
              " 2.7,\n",
              " 3.0,\n",
              " 2.5,\n",
              " 2.8,\n",
              " 3.2,\n",
              " 3.0,\n",
              " 3.8,\n",
              " 2.6,\n",
              " 2.2,\n",
              " 3.2,\n",
              " 2.8,\n",
              " 2.8,\n",
              " 2.7,\n",
              " 3.3,\n",
              " 3.2,\n",
              " 2.8,\n",
              " 3.0,\n",
              " 2.8,\n",
              " 3.0,\n",
              " 2.8,\n",
              " 3.8,\n",
              " 2.8,\n",
              " 2.8,\n",
              " 2.6,\n",
              " 3.0,\n",
              " 3.4,\n",
              " 3.1,\n",
              " 3.0,\n",
              " 3.1,\n",
              " 3.1,\n",
              " 3.1,\n",
              " 2.7,\n",
              " 3.2,\n",
              " 3.3,\n",
              " 3.0,\n",
              " 2.5,\n",
              " 3.0,\n",
              " 3.4,\n",
              " 3.0]"
            ]
          },
          "metadata": {},
          "execution_count": 7
        }
      ]
    },
    {
      "cell_type": "code",
      "metadata": {
        "colab": {
          "base_uri": "https://localhost:8080/"
        },
        "id": "GEbWvC5mASGn",
        "outputId": "6544385f-bd27-47ea-8732-fd73fcd011bc"
      },
      "source": [
        "pl = df['PetalLength'].tolist()\n",
        "pl"
      ],
      "execution_count": null,
      "outputs": [
        {
          "output_type": "execute_result",
          "data": {
            "text/plain": [
              "[1.4,\n",
              " 1.4,\n",
              " 1.3,\n",
              " 1.5,\n",
              " 1.4,\n",
              " 1.7,\n",
              " 1.4,\n",
              " 1.5,\n",
              " 1.4,\n",
              " 1.5,\n",
              " 1.5,\n",
              " 1.6,\n",
              " 1.4,\n",
              " 1.1,\n",
              " 1.2,\n",
              " 1.5,\n",
              " 1.3,\n",
              " 1.4,\n",
              " 1.7,\n",
              " 1.5,\n",
              " 1.7,\n",
              " 1.5,\n",
              " 1.0,\n",
              " 1.7,\n",
              " 1.9,\n",
              " 1.6,\n",
              " 1.6,\n",
              " 1.5,\n",
              " 1.4,\n",
              " 1.6,\n",
              " 1.6,\n",
              " 1.5,\n",
              " 1.5,\n",
              " 1.4,\n",
              " 1.5,\n",
              " 1.2,\n",
              " 1.3,\n",
              " 1.5,\n",
              " 1.3,\n",
              " 1.5,\n",
              " 1.3,\n",
              " 1.3,\n",
              " 1.3,\n",
              " 1.6,\n",
              " 1.9,\n",
              " 1.4,\n",
              " 1.6,\n",
              " 1.4,\n",
              " 1.5,\n",
              " 1.4,\n",
              " 4.7,\n",
              " 4.5,\n",
              " 4.9,\n",
              " 4.0,\n",
              " 4.6,\n",
              " 4.5,\n",
              " 4.7,\n",
              " 3.3,\n",
              " 4.6,\n",
              " 3.9,\n",
              " 3.5,\n",
              " 4.2,\n",
              " 4.0,\n",
              " 4.7,\n",
              " 3.6,\n",
              " 4.4,\n",
              " 4.5,\n",
              " 4.1,\n",
              " 4.5,\n",
              " 3.9,\n",
              " 4.8,\n",
              " 4.0,\n",
              " 4.9,\n",
              " 4.7,\n",
              " 4.3,\n",
              " 4.4,\n",
              " 4.8,\n",
              " 5.0,\n",
              " 4.5,\n",
              " 3.5,\n",
              " 3.8,\n",
              " 3.7,\n",
              " 3.9,\n",
              " 5.1,\n",
              " 4.5,\n",
              " 4.5,\n",
              " 4.7,\n",
              " 4.4,\n",
              " 4.1,\n",
              " 4.0,\n",
              " 4.4,\n",
              " 4.6,\n",
              " 4.0,\n",
              " 3.3,\n",
              " 4.2,\n",
              " 4.2,\n",
              " 4.2,\n",
              " 4.3,\n",
              " 3.0,\n",
              " 4.1,\n",
              " 6.0,\n",
              " 5.1,\n",
              " 5.9,\n",
              " 5.6,\n",
              " 5.8,\n",
              " 6.6,\n",
              " 4.5,\n",
              " 6.3,\n",
              " 5.8,\n",
              " 6.1,\n",
              " 5.1,\n",
              " 5.3,\n",
              " 5.5,\n",
              " 5.0,\n",
              " 5.1,\n",
              " 5.3,\n",
              " 5.5,\n",
              " 6.7,\n",
              " 6.9,\n",
              " 5.0,\n",
              " 5.7,\n",
              " 4.9,\n",
              " 6.7,\n",
              " 4.9,\n",
              " 5.7,\n",
              " 6.0,\n",
              " 4.8,\n",
              " 4.9,\n",
              " 5.6,\n",
              " 5.8,\n",
              " 6.1,\n",
              " 6.4,\n",
              " 5.6,\n",
              " 5.1,\n",
              " 5.6,\n",
              " 6.1,\n",
              " 5.6,\n",
              " 5.5,\n",
              " 4.8,\n",
              " 5.4,\n",
              " 5.6,\n",
              " 5.1,\n",
              " 5.1,\n",
              " 5.9,\n",
              " 5.7,\n",
              " 5.2,\n",
              " 5.0,\n",
              " 5.2,\n",
              " 5.4,\n",
              " 5.1]"
            ]
          },
          "metadata": {},
          "execution_count": 8
        }
      ]
    },
    {
      "cell_type": "code",
      "metadata": {
        "colab": {
          "base_uri": "https://localhost:8080/"
        },
        "id": "svOPwx-YAWYw",
        "outputId": "e052bd1a-06c1-4a3a-eedb-d8dbf4faf9cf"
      },
      "source": [
        "pw = df['PetalWidth'].tolist()\n",
        "pw"
      ],
      "execution_count": null,
      "outputs": [
        {
          "output_type": "execute_result",
          "data": {
            "text/plain": [
              "[0.2,\n",
              " 0.2,\n",
              " 0.2,\n",
              " 0.2,\n",
              " 0.2,\n",
              " 0.4,\n",
              " 0.3,\n",
              " 0.2,\n",
              " 0.2,\n",
              " 0.1,\n",
              " 0.2,\n",
              " 0.2,\n",
              " 0.1,\n",
              " 0.1,\n",
              " 0.2,\n",
              " 0.4,\n",
              " 0.4,\n",
              " 0.3,\n",
              " 0.3,\n",
              " 0.3,\n",
              " 0.2,\n",
              " 0.4,\n",
              " 0.2,\n",
              " 0.5,\n",
              " 0.2,\n",
              " 0.2,\n",
              " 0.4,\n",
              " 0.2,\n",
              " 0.2,\n",
              " 0.2,\n",
              " 0.2,\n",
              " 0.4,\n",
              " 0.1,\n",
              " 0.2,\n",
              " 0.1,\n",
              " 0.2,\n",
              " 0.2,\n",
              " 0.1,\n",
              " 0.2,\n",
              " 0.2,\n",
              " 0.3,\n",
              " 0.3,\n",
              " 0.2,\n",
              " 0.6,\n",
              " 0.4,\n",
              " 0.3,\n",
              " 0.2,\n",
              " 0.2,\n",
              " 0.2,\n",
              " 0.2,\n",
              " 1.4,\n",
              " 1.5,\n",
              " 1.5,\n",
              " 1.3,\n",
              " 1.5,\n",
              " 1.3,\n",
              " 1.6,\n",
              " 1.0,\n",
              " 1.3,\n",
              " 1.4,\n",
              " 1.0,\n",
              " 1.5,\n",
              " 1.0,\n",
              " 1.4,\n",
              " 1.3,\n",
              " 1.4,\n",
              " 1.5,\n",
              " 1.0,\n",
              " 1.5,\n",
              " 1.1,\n",
              " 1.8,\n",
              " 1.3,\n",
              " 1.5,\n",
              " 1.2,\n",
              " 1.3,\n",
              " 1.4,\n",
              " 1.4,\n",
              " 1.7,\n",
              " 1.5,\n",
              " 1.0,\n",
              " 1.1,\n",
              " 1.0,\n",
              " 1.2,\n",
              " 1.6,\n",
              " 1.5,\n",
              " 1.6,\n",
              " 1.5,\n",
              " 1.3,\n",
              " 1.3,\n",
              " 1.3,\n",
              " 1.2,\n",
              " 1.4,\n",
              " 1.2,\n",
              " 1.0,\n",
              " 1.3,\n",
              " 1.2,\n",
              " 1.3,\n",
              " 1.3,\n",
              " 1.1,\n",
              " 1.3,\n",
              " 2.5,\n",
              " 1.9,\n",
              " 2.1,\n",
              " 1.8,\n",
              " 2.2,\n",
              " 2.1,\n",
              " 1.7,\n",
              " 1.8,\n",
              " 1.8,\n",
              " 2.5,\n",
              " 2.0,\n",
              " 1.9,\n",
              " 2.1,\n",
              " 2.0,\n",
              " 2.4,\n",
              " 2.3,\n",
              " 1.8,\n",
              " 2.2,\n",
              " 2.3,\n",
              " 1.5,\n",
              " 2.3,\n",
              " 2.0,\n",
              " 2.0,\n",
              " 1.8,\n",
              " 2.1,\n",
              " 1.8,\n",
              " 1.8,\n",
              " 1.8,\n",
              " 2.1,\n",
              " 1.6,\n",
              " 1.9,\n",
              " 2.0,\n",
              " 2.2,\n",
              " 1.5,\n",
              " 1.4,\n",
              " 2.3,\n",
              " 2.4,\n",
              " 1.8,\n",
              " 1.8,\n",
              " 2.1,\n",
              " 2.4,\n",
              " 2.3,\n",
              " 1.9,\n",
              " 2.3,\n",
              " 2.5,\n",
              " 2.3,\n",
              " 1.9,\n",
              " 2.0,\n",
              " 2.3,\n",
              " 1.8]"
            ]
          },
          "metadata": {},
          "execution_count": 11
        }
      ]
    },
    {
      "cell_type": "code",
      "metadata": {
        "colab": {
          "base_uri": "https://localhost:8080/"
        },
        "id": "a96lRCX6AygI",
        "outputId": "6a1a5787-0bc6-4f5a-ca5a-8e4ccefc6067"
      },
      "source": [
        "n1 = len(sl)\n",
        "sum1 = sum(sl)\n",
        "mean1 = sum1/n1\n",
        "print(\"Mean sepal length: \" + str(mean1))"
      ],
      "execution_count": null,
      "outputs": [
        {
          "output_type": "stream",
          "name": "stdout",
          "text": [
            "Mean sepal length: 5.843333333333335\n"
          ]
        }
      ]
    },
    {
      "cell_type": "code",
      "metadata": {
        "colab": {
          "base_uri": "https://localhost:8080/"
        },
        "id": "RIRhXfTbBULf",
        "outputId": "a0a8ef90-dd9d-4be8-8cee-de79ad6f7898"
      },
      "source": [
        "n2 = len(sw)\n",
        "sum2 = sum(sw)\n",
        "mean2 = sum2/n2\n",
        "print(\"Mean sepal width: \" + str(mean2))"
      ],
      "execution_count": null,
      "outputs": [
        {
          "output_type": "stream",
          "name": "stdout",
          "text": [
            "Mean sepal width: 3.0540000000000007\n"
          ]
        }
      ]
    },
    {
      "cell_type": "code",
      "metadata": {
        "colab": {
          "base_uri": "https://localhost:8080/"
        },
        "id": "7i7ocXrGBe_K",
        "outputId": "454c0046-e44f-47e3-d711-02171e2fd78f"
      },
      "source": [
        "n3 = len(pl)\n",
        "sum3 = sum(pl)\n",
        "mean3 = sum3/n3\n",
        "print(\"Mean petal length: \" + str(mean3))"
      ],
      "execution_count": null,
      "outputs": [
        {
          "output_type": "stream",
          "name": "stdout",
          "text": [
            "Mean petal length: 3.7586666666666693\n"
          ]
        }
      ]
    },
    {
      "cell_type": "code",
      "metadata": {
        "colab": {
          "base_uri": "https://localhost:8080/"
        },
        "id": "klyirSZBBn5W",
        "outputId": "d37657d7-8d0a-4935-98a9-c6d7e320f213"
      },
      "source": [
        "n4 = len(pw)\n",
        "sum4 = sum(pw)\n",
        "mean4 = sum4/n4\n",
        "print(\"Mean petal width: \" + str(mean4))"
      ],
      "execution_count": null,
      "outputs": [
        {
          "output_type": "stream",
          "name": "stdout",
          "text": [
            "Mean petal width: 1.1986666666666672\n"
          ]
        }
      ]
    },
    {
      "cell_type": "code",
      "metadata": {
        "colab": {
          "base_uri": "https://localhost:8080/"
        },
        "id": "fqNHiHYcBzHE",
        "outputId": "a5ac4f06-341a-4a6d-91ea-dc64bd5b1c87"
      },
      "source": [
        "sl.sort()\n",
        "if (n1%2 == 0):\n",
        "  median1 = sl[n1//2]\n",
        "  median2 = sl[n1//2 - 1]\n",
        "  median = (median1 + median2)/2\n",
        "else:\n",
        "  median = sl[n1//2]\n",
        "print(\"Median of sepal length: \" + str(median))"
      ],
      "execution_count": null,
      "outputs": [
        {
          "output_type": "stream",
          "name": "stdout",
          "text": [
            "Median of sepal length: 5.8\n"
          ]
        }
      ]
    },
    {
      "cell_type": "code",
      "metadata": {
        "colab": {
          "base_uri": "https://localhost:8080/"
        },
        "id": "kPpn_QWjCX83",
        "outputId": "dd2082f8-550e-4e7a-bcd2-b26f0c808df9"
      },
      "source": [
        "sw.sort()\n",
        "if (n2%2 == 0):\n",
        "  median1 = sw[n2//2]\n",
        "  median2 = sw[n2//2 - 1]\n",
        "  median = (median1 + median2)/2\n",
        "else:\n",
        "  median = sw[n2//2]\n",
        "print(\"Median of sepal width: \" + str(median))"
      ],
      "execution_count": null,
      "outputs": [
        {
          "output_type": "stream",
          "name": "stdout",
          "text": [
            "Median of sepal width: 3.0\n"
          ]
        }
      ]
    },
    {
      "cell_type": "code",
      "metadata": {
        "colab": {
          "base_uri": "https://localhost:8080/"
        },
        "id": "3et0R6fYCknV",
        "outputId": "4087de4b-4c14-4bf2-d831-7b7ce160e02a"
      },
      "source": [
        "pl.sort()\n",
        "if (n3%2 == 0):\n",
        "  median1 = pl[n3//2]\n",
        "  median2 = pl[n3//2 - 1]\n",
        "  median = (median1 + median2)/2\n",
        "else:\n",
        "  median = pl[n3//2]\n",
        "print(\"Median of petal length: \" + str(median))"
      ],
      "execution_count": null,
      "outputs": [
        {
          "output_type": "stream",
          "name": "stdout",
          "text": [
            "Median of petal length: 4.35\n"
          ]
        }
      ]
    },
    {
      "cell_type": "code",
      "metadata": {
        "colab": {
          "base_uri": "https://localhost:8080/"
        },
        "id": "zjgxRLMPCvo6",
        "outputId": "8280d88a-96fa-48b3-a1e8-526db0733008"
      },
      "source": [
        "pw.sort()\n",
        "if (n4%2 == 0):\n",
        "  median1 = pw[n4//2]\n",
        "  median2 = pw[n4//2 - 1]\n",
        "  median = (median1 + median2)/2\n",
        "else:\n",
        "  median = pw[n4//2]\n",
        "print(\"Median of petal width: \" + str(median))"
      ],
      "execution_count": null,
      "outputs": [
        {
          "output_type": "stream",
          "name": "stdout",
          "text": [
            "Median of petal width: 1.3\n"
          ]
        }
      ]
    },
    {
      "cell_type": "code",
      "metadata": {
        "id": "4CowDQLhC_mY"
      },
      "source": [
        "sl = df['SepalLength'].tolist()\n",
        "sw = df['SepalWidth'].tolist()\n",
        "pl = df['PetalLength'].tolist()\n",
        "pw = df['PetalWidth'].tolist()"
      ],
      "execution_count": null,
      "outputs": []
    },
    {
      "cell_type": "code",
      "metadata": {
        "colab": {
          "base_uri": "https://localhost:8080/"
        },
        "id": "Xu_dzxw6E4v5",
        "outputId": "e17949e9-e511-41e4-b606-f362c84e5e79"
      },
      "source": [
        "import math\n",
        "def variance(list1, mean):\n",
        "  return sum((x - mean)**2 for x in list1)/n1\n",
        "def standard_deviation(list1, mean):\n",
        "  var = variance(list1, mean)\n",
        "  sd = math.sqrt(var)\n",
        "  return sd\n",
        "standard_deviation(sl, mean1)"
      ],
      "execution_count": null,
      "outputs": [
        {
          "output_type": "execute_result",
          "data": {
            "text/plain": [
              "0.8253012917851409"
            ]
          },
          "metadata": {},
          "execution_count": 25
        }
      ]
    },
    {
      "cell_type": "code",
      "metadata": {
        "colab": {
          "base_uri": "https://localhost:8080/"
        },
        "id": "Za1pkptzGB3M",
        "outputId": "2764ba04-eb60-4b2f-dd5a-3fde279b4e5b"
      },
      "source": [
        "standard_deviation(sw, mean2)"
      ],
      "execution_count": null,
      "outputs": [
        {
          "output_type": "execute_result",
          "data": {
            "text/plain": [
              "0.4321465800705435"
            ]
          },
          "metadata": {},
          "execution_count": 26
        }
      ]
    },
    {
      "cell_type": "code",
      "metadata": {
        "colab": {
          "base_uri": "https://localhost:8080/"
        },
        "id": "glqJ0DAgGHAf",
        "outputId": "b0e2e75b-c37c-4029-ab8f-5ef2e01bc9c7"
      },
      "source": [
        "standard_deviation(pl, mean3)"
      ],
      "execution_count": null,
      "outputs": [
        {
          "output_type": "execute_result",
          "data": {
            "text/plain": [
              "1.7585291834055201"
            ]
          },
          "metadata": {},
          "execution_count": 27
        }
      ]
    },
    {
      "cell_type": "code",
      "metadata": {
        "colab": {
          "base_uri": "https://localhost:8080/"
        },
        "id": "3XWOi4iFGg2I",
        "outputId": "05cc8f21-055c-4904-a9c5-ea904763a438"
      },
      "source": [
        "standard_deviation(pw, mean4)"
      ],
      "execution_count": null,
      "outputs": [
        {
          "output_type": "execute_result",
          "data": {
            "text/plain": [
              "0.760612618588172"
            ]
          },
          "metadata": {},
          "execution_count": 28
        }
      ]
    },
    {
      "cell_type": "code",
      "metadata": {
        "colab": {
          "base_uri": "https://localhost:8080/",
          "height": 268
        },
        "id": "x5CTsHhbGo68",
        "outputId": "ec52cb23-b6b1-4d34-a1ef-0d2a0042cf60"
      },
      "source": [
        "# Q7\n",
        "import matplotlib.pyplot as plt\n",
        "plt.scatter(df.iloc[:, 0:1], df.iloc[:, 1:2], marker = 'o')\n",
        "plt.show()"
      ],
      "execution_count": null,
      "outputs": [
        {
          "output_type": "display_data",
          "data": {
            "image/png": "[encoded data removed]",
            "text/plain": [
              "<Figure size 432x288 with 1 Axes>"
            ]
          },
          "metadata": {
            "needs_background": "light"
          }
        }
      ]
    },
    {
      "cell_type": "code",
      "metadata": {
        "colab": {
          "base_uri": "https://localhost:8080/",
          "height": 265
        },
        "id": "PaMLkMaiK41l",
        "outputId": "ce2db2bf-d872-4a5e-9f2c-4ddf799ccf8d"
      },
      "source": [
        "import matplotlib.pyplot as plt\n",
        "plt.scatter(df.iloc[:, 0:1], df.iloc[:, 2:3], marker = 'o')\n",
        "plt.show()"
      ],
      "execution_count": null,
      "outputs": [
        {
          "output_type": "display_data",
          "data": {
            "image/png": "[encoded data removed]",
            "text/plain": [
              "<Figure size 432x288 with 1 Axes>"
            ]
          },
          "metadata": {
            "needs_background": "light"
          }
        }
      ]
    },
    {
      "cell_type": "code",
      "metadata": {
        "colab": {
          "base_uri": "https://localhost:8080/",
          "height": 265
        },
        "id": "9YaJEfGALAf6",
        "outputId": "71d47d9e-eebf-42a0-96fe-fd004a45d078"
      },
      "source": [
        "import matplotlib.pyplot as plt\n",
        "plt.scatter(df.iloc[:, 0:1], df.iloc[:, 3:4], marker = 'o')\n",
        "plt.show()"
      ],
      "execution_count": null,
      "outputs": [
        {
          "output_type": "display_data",
          "data": {
            "image/png": "[encoded data removed]",
            "text/plain": [
              "<Figure size 432x288 with 1 Axes>"
            ]
          },
          "metadata": {
            "needs_background": "light"
          }
        }
      ]
    },
    {
      "cell_type": "code",
      "metadata": {
        "colab": {
          "base_uri": "https://localhost:8080/",
          "height": 265
        },
        "id": "47KHxrM4LGqe",
        "outputId": "78a0c143-ac6c-4085-fb9c-b81f4be78f55"
      },
      "source": [
        "import matplotlib.pyplot as plt\n",
        "plt.scatter(df.iloc[:, 1:2], df.iloc[:, 2:3], marker = 'o')\n",
        "plt.show()"
      ],
      "execution_count": null,
      "outputs": [
        {
          "output_type": "display_data",
          "data": {
            "image/png": "[encoded data removed]",
            "text/plain": [
              "<Figure size 432x288 with 1 Axes>"
            ]
          },
          "metadata": {
            "needs_background": "light"
          }
        }
      ]
    },
    {
      "cell_type": "code",
      "metadata": {
        "colab": {
          "base_uri": "https://localhost:8080/",
          "height": 265
        },
        "id": "-ON8ispvLMoP",
        "outputId": "8c3aa867-7867-416e-a7d4-dd1ddbe1bb90"
      },
      "source": [
        "import matplotlib.pyplot as plt\n",
        "plt.scatter(df.iloc[:, 1:2], df.iloc[:, 3:4], marker = 'o')\n",
        "plt.show()"
      ],
      "execution_count": null,
      "outputs": [
        {
          "output_type": "display_data",
          "data": {
            "image/png": "[encoded data removed]",
            "text/plain": [
              "<Figure size 432x288 with 1 Axes>"
            ]
          },
          "metadata": {
            "needs_background": "light"
          }
        }
      ]
    },
    {
      "cell_type": "code",
      "metadata": {
        "colab": {
          "base_uri": "https://localhost:8080/",
          "height": 265
        },
        "id": "eD71sydiLSTQ",
        "outputId": "17f9dc53-1c8a-4ee0-f8b6-2d96ca9414ca"
      },
      "source": [
        "import matplotlib.pyplot as plt\n",
        "plt.scatter(df.iloc[:, 2:3], df.iloc[:, 3:4], marker = 'o')\n",
        "plt.show()"
      ],
      "execution_count": null,
      "outputs": [
        {
          "output_type": "display_data",
          "data": {
            "image/png": "[encoded data removed]",
            "text/plain": [
              "<Figure size 432x288 with 1 Axes>"
            ]
          },
          "metadata": {
            "needs_background": "light"
          }
        }
      ]
    },
    {
      "cell_type": "code",
      "metadata": {
        "id": "Yo27X-PiLd1V"
      },
      "source": [
        "def cov(x, y):\n",
        "  if len(x) != len(y):\n",
        "    return\n",
        "  n = len(x)\n",
        "  mean_x = sum(x)/float(n)\n",
        "  mean_y = sum(y)/float(n)\n",
        "  return sum([(x[i]-mean_x)*(y[i]-mean_y) for i in range(n)])/float(n)"
      ],
      "execution_count": null,
      "outputs": []
    },
    {
      "cell_type": "code",
      "metadata": {
        "colab": {
          "base_uri": "https://localhost:8080/"
        },
        "id": "qmpopdazOSTV",
        "outputId": "bff85ff6-a0b7-4331-b0a0-f0ff0ea35b6d"
      },
      "source": [
        "def corr(x, mean1, y, mean2):\n",
        "  if len(x) != len(y):\n",
        "    return\n",
        "  correlation = cov(x, y)/float((standard_deviation(x, mean1))*(standard_deviation(y, mean2)))\n",
        "  return correlation\n",
        "corr(sl, mean1, sw, mean2)"
      ],
      "execution_count": null,
      "outputs": [
        {
          "output_type": "execute_result",
          "data": {
            "text/plain": [
              "-0.10936924995064935"
            ]
          },
          "metadata": {},
          "execution_count": 45
        }
      ]
    },
    {
      "cell_type": "code",
      "metadata": {
        "colab": {
          "base_uri": "https://localhost:8080/"
        },
        "id": "GhBVXDhgPY95",
        "outputId": "f6e2891c-5837-49ae-9a30-1c2ddaeeda50"
      },
      "source": [
        "from scipy.stats import pearsonr\n",
        "correl, _ = pearsonr(sl, sw)\n",
        "correl"
      ],
      "execution_count": null,
      "outputs": [
        {
          "output_type": "execute_result",
          "data": {
            "text/plain": [
              "-0.10936924995064937"
            ]
          },
          "metadata": {},
          "execution_count": 43
        }
      ]
    },
    {
      "cell_type": "code",
      "metadata": {
        "colab": {
          "base_uri": "https://localhost:8080/"
        },
        "id": "T5dIALiLPkiB",
        "outputId": "81d0e949-654d-40c6-dbfa-da815180a9b8"
      },
      "source": [
        "corr(sl, mean1, pl, mean3)"
      ],
      "execution_count": null,
      "outputs": [
        {
          "output_type": "execute_result",
          "data": {
            "text/plain": [
              "0.8717541573048718"
            ]
          },
          "metadata": {},
          "execution_count": 46
        }
      ]
    },
    {
      "cell_type": "code",
      "metadata": {
        "colab": {
          "base_uri": "https://localhost:8080/"
        },
        "id": "vaIio-5eQG-N",
        "outputId": "6e9234b2-efb7-4836-f02f-8cf8c446972b"
      },
      "source": [
        "correl, _ = pearsonr(sl, pl)\n",
        "correl"
      ],
      "execution_count": null,
      "outputs": [
        {
          "output_type": "execute_result",
          "data": {
            "text/plain": [
              "0.8717541573048713"
            ]
          },
          "metadata": {},
          "execution_count": 47
        }
      ]
    },
    {
      "cell_type": "code",
      "metadata": {
        "colab": {
          "base_uri": "https://localhost:8080/"
        },
        "id": "vKUaMThwQLpS",
        "outputId": "ac2704b4-da68-4067-f266-d2948cd288bf"
      },
      "source": [
        "corr(sl, mean1, pw, mean4)"
      ],
      "execution_count": null,
      "outputs": [
        {
          "output_type": "execute_result",
          "data": {
            "text/plain": [
              "0.8179536333691633"
            ]
          },
          "metadata": {},
          "execution_count": 48
        }
      ]
    },
    {
      "cell_type": "code",
      "metadata": {
        "colab": {
          "base_uri": "https://localhost:8080/"
        },
        "id": "eyfaLigyQQnA",
        "outputId": "2ac503e6-ce4e-4d6a-e263-fa49947fc52d"
      },
      "source": [
        "correl, _ = pearsonr(sl, pw)\n",
        "correl"
      ],
      "execution_count": null,
      "outputs": [
        {
          "output_type": "execute_result",
          "data": {
            "text/plain": [
              "0.8179536333691635"
            ]
          },
          "metadata": {},
          "execution_count": 49
        }
      ]
    },
    {
      "cell_type": "code",
      "metadata": {
        "colab": {
          "base_uri": "https://localhost:8080/"
        },
        "id": "4ldBqa3AQdYU",
        "outputId": "661f6c43-0608-44ad-c89a-0165eee1bf0b"
      },
      "source": [
        "corr(sw, mean2, pl, mean3)"
      ],
      "execution_count": null,
      "outputs": [
        {
          "output_type": "execute_result",
          "data": {
            "text/plain": [
              "-0.42051609640115495"
            ]
          },
          "metadata": {},
          "execution_count": 50
        }
      ]
    },
    {
      "cell_type": "code",
      "metadata": {
        "colab": {
          "base_uri": "https://localhost:8080/"
        },
        "id": "MXHyBxPXQj2z",
        "outputId": "2ff49f72-e1f3-4118-d24f-09d5ec23dba7"
      },
      "source": [
        "correl, _ = pearsonr(sw, pl)\n",
        "correl"
      ],
      "execution_count": null,
      "outputs": [
        {
          "output_type": "execute_result",
          "data": {
            "text/plain": [
              "-0.4205160964011545"
            ]
          },
          "metadata": {},
          "execution_count": 51
        }
      ]
    },
    {
      "cell_type": "code",
      "metadata": {
        "colab": {
          "base_uri": "https://localhost:8080/"
        },
        "id": "lsHSyFhvQoUE",
        "outputId": "a530955e-2016-4359-f532-233ed2b9cb3b"
      },
      "source": [
        "corr(sw, mean2, pw, mean4)"
      ],
      "execution_count": null,
      "outputs": [
        {
          "output_type": "execute_result",
          "data": {
            "text/plain": [
              "-0.3565440896138055"
            ]
          },
          "metadata": {},
          "execution_count": 52
        }
      ]
    },
    {
      "cell_type": "code",
      "metadata": {
        "colab": {
          "base_uri": "https://localhost:8080/"
        },
        "id": "vX5U9M0JQsg2",
        "outputId": "f8186831-aaa9-4aa9-c37a-3c1af4a86a2b"
      },
      "source": [
        "correl, _ = pearsonr(sw, pw)\n",
        "correl"
      ],
      "execution_count": null,
      "outputs": [
        {
          "output_type": "execute_result",
          "data": {
            "text/plain": [
              "-0.3565440896138058"
            ]
          },
          "metadata": {},
          "execution_count": 53
        }
      ]
    },
    {
      "cell_type": "code",
      "metadata": {
        "colab": {
          "base_uri": "https://localhost:8080/"
        },
        "id": "SOt7lv2jQv-9",
        "outputId": "b35ae753-cbfc-4438-988a-245b67fecccc"
      },
      "source": [
        "corr(pl, mean3, pw, mean4)"
      ],
      "execution_count": null,
      "outputs": [
        {
          "output_type": "execute_result",
          "data": {
            "text/plain": [
              "0.9627570970509667"
            ]
          },
          "metadata": {},
          "execution_count": 54
        }
      ]
    },
    {
      "cell_type": "code",
      "metadata": {
        "colab": {
          "base_uri": "https://localhost:8080/"
        },
        "id": "v41bwXJcRhQc",
        "outputId": "e6cfc7ad-328d-451e-ebac-141cb7ef84f5"
      },
      "source": [
        "correl, _ = pearsonr(pl, pw)\n",
        "correl"
      ],
      "execution_count": null,
      "outputs": [
        {
          "output_type": "execute_result",
          "data": {
            "text/plain": [
              "0.9627570970509661"
            ]
          },
          "metadata": {},
          "execution_count": 55
        }
      ]
    }
  ]
}