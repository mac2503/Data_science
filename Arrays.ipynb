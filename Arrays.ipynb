{
  "nbformat": 4,
  "nbformat_minor": 0,
  "metadata": {
    "colab": {
      "name": "DS_A3.ipynb",
      "provenance": [],
      "collapsed_sections": []
    },
    "kernelspec": {
      "name": "python3",
      "display_name": "Python 3"
    },
    "language_info": {
      "name": "python"
    }
  },
  "cells": [
    {
      "cell_type": "code",
      "metadata": {
        "colab": {
          "base_uri": "https://localhost:8080/"
        },
        "id": "EIW9dY1NHVp2",
        "outputId": "7abda776-216f-4108-e623-9d2a4d060e52"
      },
      "source": [
        "# Q1\n",
        "import numpy as np\n",
        "n = int(input(\"Enter no. of elements: \"))\n",
        "arr = np.empty(0, dtype='int')\n",
        "for i in range(0, n):\n",
        "  inp = int(input())\n",
        "  arr = np.append(arr, inp)\n",
        "print(\"Array: \", arr)\n",
        "even = np.empty(0, dtype='int')\n",
        "odd = np.empty(0, dtype='int')\n",
        "for i in range(0, n):\n",
        "  if ((arr[i]%2) == 0):\n",
        "    even = np.append(even, arr[i])\n",
        "  elif ((arr[i]%2) != 0):\n",
        "    odd = np.append(odd, arr[i])\n",
        "print(\"Even: \", even)\n",
        "print(\"Odd: \", odd)\n",
        "for i in range(0, n):\n",
        "  if ((arr[i]%2) == 0):\n",
        "    arr[i] = 0\n",
        "print(\"Final array: \", arr)"
      ],
      "execution_count": null,
      "outputs": [
        {
          "output_type": "stream",
          "name": "stdout",
          "text": [
            "Enter no. of elements: 5\n",
            "3\n",
            "6\n",
            "9\n",
            "12\n",
            "15\n",
            "Array:  [ 3  6  9 12 15]\n",
            "Even:  [ 6 12]\n",
            "Odd:  [ 3  9 15]\n",
            "Final array:  [ 3  0  9  0 15]\n"
          ]
        }
      ]
    },
    {
      "cell_type": "code",
      "metadata": {
        "colab": {
          "base_uri": "https://localhost:8080/"
        },
        "id": "69PSWz_66Pil",
        "outputId": "3c89a7a2-0f8f-49a1-952a-f4b5237c73a7"
      },
      "source": [
        "# Q2\n",
        "import numpy as np\n",
        "n = int(input(\"Enter no. of elements: \"))\n",
        "arr = np.empty(0, dtype='int')\n",
        "for i in range(0, n):\n",
        "  inp = int(input())\n",
        "  arr = np.append(arr, inp)\n",
        "print(\"Array: \", arr)\n",
        "print(\"Array: \", (np.where((arr%2!=0), 'odd', arr)))"
      ],
      "execution_count": null,
      "outputs": [
        {
          "output_type": "stream",
          "name": "stdout",
          "text": [
            "Enter no. of elements: 5\n",
            "3\n",
            "6\n",
            "9\n",
            "12\n",
            "15\n",
            "Array:  [ 3  6  9 12 15]\n",
            "Array:  ['odd' '6' 'odd' '12' 'odd']\n"
          ]
        }
      ]
    },
    {
      "cell_type": "code",
      "metadata": {
        "colab": {
          "base_uri": "https://localhost:8080/"
        },
        "id": "RfyaicQm9hnW",
        "outputId": "bb1a9ec9-fb8f-4d16-df80-48706a1f2651"
      },
      "source": [
        "# Q3\n",
        "import numpy as np\n",
        "arr = ['How', 'Are', 'You']\n",
        "print(\"Array: \", arr)\n",
        "ans = np.array(arr)\n",
        "ans = np.repeat(ans, 3)\n",
        "arr = arr*3\n",
        "ans = np.append(ans, arr)\n",
        "print(ans)"
      ],
      "execution_count": null,
      "outputs": [
        {
          "output_type": "stream",
          "name": "stdout",
          "text": [
            "Array:  ['How', 'Are', 'You']\n",
            "['How' 'How' 'How' 'Are' 'Are' 'Are' 'You' 'You' 'You' 'How' 'Are' 'You'\n",
            " 'How' 'Are' 'You' 'How' 'Are' 'You']\n"
          ]
        }
      ]
    },
    {
      "cell_type": "code",
      "metadata": {
        "colab": {
          "base_uri": "https://localhost:8080/"
        },
        "id": "N7QtLYO6CIgo",
        "outputId": "3f163505-bd4c-421a-862e-7eb9e577aaaa"
      },
      "source": [
        "# Q4\n",
        "import numpy as np\n",
        "n = int(input(\"Enter no. of elements for array 1: \"))\n",
        "arr1 = np.empty(0)\n",
        "for i in range(0, n):\n",
        "  inp = input()\n",
        "  arr1 = np.append(arr1, inp)\n",
        "print(\"Array 1: \", arr1)\n",
        "m = int(input(\"Enter no. of elements for array 2: \"))\n",
        "arr2 = np.empty(0)\n",
        "for i in range(0, m):\n",
        "  inp = input()\n",
        "  arr2 = np.append(arr2, inp)\n",
        "print(\"Array 2: \", arr2)\n",
        "print(\"Common alphabets: \", np.intersect1d(arr1, arr2))"
      ],
      "execution_count": null,
      "outputs": [
        {
          "output_type": "stream",
          "name": "stdout",
          "text": [
            "Enter no. of elements for array 1: 5\n",
            "m\n",
            "a\n",
            "h\n",
            "e\n",
            "k\n",
            "Array 1:  ['m' 'a' 'h' 'e' 'k']\n",
            "Enter no. of elements for array 2: 7\n",
            "k\n",
            "h\n",
            "o\n",
            "w\n",
            "a\n",
            "l\n",
            "a\n",
            "Array 2:  ['k' 'h' 'o' 'w' 'a' 'l' 'a']\n",
            "Common alphabets:  ['a' 'h' 'k']\n"
          ]
        }
      ]
    },
    {
      "cell_type": "code",
      "metadata": {
        "colab": {
          "base_uri": "https://localhost:8080/"
        },
        "id": "zOBXPlEshs5W",
        "outputId": "0cbe1c5d-6b93-4c6b-db9b-57ffd1b28a4b"
      },
      "source": [
        "# Q5\n",
        "import numpy as np\n",
        "arr = np.arange(12).reshape(3, 4)\n",
        "print(\"Original array: \")\n",
        "print(arr)\n",
        "arr[:,[0, 1]] = arr[:,[1, 0]]\n",
        "print(\"Array after swapping columns: \")\n",
        "print(arr)\n",
        "arr[[0, 1], :] = arr[[1, 0], :]\n",
        "print(\"Array after swapping rows: \")\n",
        "print(arr)"
      ],
      "execution_count": null,
      "outputs": [
        {
          "output_type": "stream",
          "name": "stdout",
          "text": [
            "Original array: \n",
            "[[ 0  1  2  3]\n",
            " [ 4  5  6  7]\n",
            " [ 8  9 10 11]]\n",
            "Array after swapping columns: \n",
            "[[ 1  0  2  3]\n",
            " [ 5  4  6  7]\n",
            " [ 9  8 10 11]]\n",
            "Array after swapping rows: \n",
            "[[ 5  4  6  7]\n",
            " [ 1  0  2  3]\n",
            " [ 9  8 10 11]]\n"
          ]
        }
      ]
    },
    {
      "cell_type": "code",
      "metadata": {
        "colab": {
          "base_uri": "https://localhost:8080/"
        },
        "id": "HIhIVYbmNrz3",
        "outputId": "07833ebf-47b1-467a-9655-a11260bb49d4"
      },
      "source": [
        "# Q6\n",
        "randomArray = np.random.uniform(6, 12, size=(5, 3))\n",
        "print(randomArray)"
      ],
      "execution_count": null,
      "outputs": [
        {
          "output_type": "stream",
          "name": "stdout",
          "text": [
            "[[ 7.90093867  7.14535497 11.27207044]\n",
            " [11.0348292  10.62077193  9.74292444]\n",
            " [ 8.48733284  9.84768323  6.11397174]\n",
            " [10.29185736  9.9508266   8.29494069]\n",
            " [ 7.84394441  7.49558015  7.17310339]]\n"
          ]
        }
      ]
    },
    {
      "cell_type": "code",
      "metadata": {
        "colab": {
          "base_uri": "https://localhost:8080/"
        },
        "id": "KP2RrV6IOgOv",
        "outputId": "b43d3c06-5bff-430d-84b4-416b596216b5"
      },
      "source": [
        "# Q7\n",
        "import random\n",
        "n = int(input(\"Enter no. of elements: \"))\n",
        "arr = np.empty(0)\n",
        "for i in range(0, n):\n",
        "    inp = round(random.uniform(3.00, 30.00), 2)\n",
        "    arr = np.append(arr, inp)\n",
        "print(arr)"
      ],
      "execution_count": null,
      "outputs": [
        {
          "output_type": "stream",
          "name": "stdout",
          "text": [
            "Enter no. of elements: 6\n",
            "[28.09 23.06  5.99 27.77 25.36  3.52]\n"
          ]
        }
      ]
    },
    {
      "cell_type": "code",
      "metadata": {
        "colab": {
          "base_uri": "https://localhost:8080/"
        },
        "id": "RFy8C6YBST5E",
        "outputId": "b0b5f234-39c5-4fa1-af02-63de9c603206"
      },
      "source": [
        "# Q8\n",
        "url = 'https://archive.ics.uci.edu/ml/machine-learning-databases/iris/iris.data'\n",
        "iris_1d = np.genfromtxt(url, delimiter=',', dtype=None, encoding=None)\n",
        "print(iris_1d[:5])\n",
        "iris_2d = np.array([row.tolist()[:4] for row in iris_1d])\n",
        "print(iris_2d[:5])"
      ],
      "execution_count": null,
      "outputs": [
        {
          "output_type": "stream",
          "name": "stdout",
          "text": [
            "[(5.1, 3.5, 1.4, 0.2, 'Iris-setosa') (4.9, 3. , 1.4, 0.2, 'Iris-setosa')\n",
            " (4.7, 3.2, 1.3, 0.2, 'Iris-setosa') (4.6, 3.1, 1.5, 0.2, 'Iris-setosa')\n",
            " (5. , 3.6, 1.4, 0.2, 'Iris-setosa')]\n",
            "[[5.1 3.5 1.4 0.2]\n",
            " [4.9 3.  1.4 0.2]\n",
            " [4.7 3.2 1.3 0.2]\n",
            " [4.6 3.1 1.5 0.2]\n",
            " [5.  3.6 1.4 0.2]]\n"
          ]
        }
      ]
    },
    {
      "cell_type": "code",
      "metadata": {
        "colab": {
          "base_uri": "https://localhost:8080/"
        },
        "id": "JNAbQaU3X6hn",
        "outputId": "4948d814-cf31-4feb-cb0f-2f66f9ac1729"
      },
      "source": [
        "# Q9\n",
        "url = 'https://archive.ics.uci.edu/ml/machine-learning-databases/iris/iris.data'\n",
        "iris = np.genfromtxt(url, delimiter=',', dtype='object')\n",
        "sepallength = np.genfromtxt(url, delimiter=',', dtype='float', usecols=[0])\n",
        "mean = np.mean(sepallength)\n",
        "median = np.median(sepallength)\n",
        "standard_deviation = np.std(sepallength)\n",
        "print(\"Mean: \", mean)\n",
        "print(\"Median: \", median)\n",
        "print(\"Standard deviation: \", standard_deviation)"
      ],
      "execution_count": null,
      "outputs": [
        {
          "output_type": "stream",
          "name": "stdout",
          "text": [
            "Mean:  5.843333333333334\n",
            "Median:  5.8\n",
            "Standard deviation:  0.8253012917851409\n"
          ]
        }
      ]
    }
  ]
}