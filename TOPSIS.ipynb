{
  "nbformat": 4,
  "nbformat_minor": 0,
  "metadata": {
    "colab": {
      "name": "DS_A8",
      "provenance": [],
      "collapsed_sections": []
    },
    "kernelspec": {
      "name": "python3",
      "display_name": "Python 3"
    },
    "language_info": {
      "name": "python"
    }
  },
  "cells": [
    {
      "cell_type": "code",
      "metadata": {
        "colab": {
          "base_uri": "https://localhost:8080/",
          "height": 423
        },
        "id": "IxitALbvdQ9G",
        "outputId": "0f5adefb-94d5-49f1-959b-6210c019c110"
      },
      "source": [
        "# Program 1.1\n",
        "import pandas as pd\n",
        "df = pd.read_csv(r'/content/drive/MyDrive/Data Science Practical/proteinSequenceFile1.csv')\n",
        "df"
      ],
      "execution_count": null,
      "outputs": [
        {
          "output_type": "execute_result",
          "data": {
            "text/html": [
              "<div>\n",
              "<style scoped>\n",
              "    .dataframe tbody tr th:only-of-type {\n",
              "        vertical-align: middle;\n",
              "    }\n",
              "\n",
              "    .dataframe tbody tr th {\n",
              "        vertical-align: top;\n",
              "    }\n",
              "\n",
              "    .dataframe thead th {\n",
              "        text-align: right;\n",
              "    }\n",
              "</style>\n",
              "<table border=\"1\" class=\"dataframe\">\n",
              "  <thead>\n",
              "    <tr style=\"text-align: right;\">\n",
              "      <th></th>\n",
              "      <th>Sequence</th>\n",
              "      <th>Class</th>\n",
              "    </tr>\n",
              "  </thead>\n",
              "  <tbody>\n",
              "    <tr>\n",
              "      <th>0</th>\n",
              "      <td>KGTFEKATSEAYAYADTLKKDNGEY</td>\n",
              "      <td>+</td>\n",
              "    </tr>\n",
              "    <tr>\n",
              "      <th>1</th>\n",
              "      <td>VHHPKLVFFAEDVGS</td>\n",
              "      <td>+</td>\n",
              "    </tr>\n",
              "    <tr>\n",
              "      <th>2</th>\n",
              "      <td>GYANNFLFKQG</td>\n",
              "      <td>+</td>\n",
              "    </tr>\n",
              "    <tr>\n",
              "      <th>3</th>\n",
              "      <td>STVQIE</td>\n",
              "      <td>-</td>\n",
              "    </tr>\n",
              "    <tr>\n",
              "      <th>4</th>\n",
              "      <td>NGERIE</td>\n",
              "      <td>-</td>\n",
              "    </tr>\n",
              "    <tr>\n",
              "      <th>...</th>\n",
              "      <td>...</td>\n",
              "      <td>...</td>\n",
              "    </tr>\n",
              "    <tr>\n",
              "      <th>394</th>\n",
              "      <td>VHHQKLVPFAEDVGS</td>\n",
              "      <td>-</td>\n",
              "    </tr>\n",
              "    <tr>\n",
              "      <th>395</th>\n",
              "      <td>YKQQSIQLIEAGVTKR</td>\n",
              "      <td>-</td>\n",
              "    </tr>\n",
              "    <tr>\n",
              "      <th>396</th>\n",
              "      <td>RCQNRDVRQY</td>\n",
              "      <td>-</td>\n",
              "    </tr>\n",
              "    <tr>\n",
              "      <th>397</th>\n",
              "      <td>PGGG5VQIVYKPV</td>\n",
              "      <td>+</td>\n",
              "    </tr>\n",
              "    <tr>\n",
              "      <th>398</th>\n",
              "      <td>PTVIIE</td>\n",
              "      <td>-</td>\n",
              "    </tr>\n",
              "  </tbody>\n",
              "</table>\n",
              "<p>399 rows × 2 columns</p>\n",
              "</div>"
            ],
            "text/plain": [
              "                      Sequence Class\n",
              "0    KGTFEKATSEAYAYADTLKKDNGEY     +\n",
              "1              VHHPKLVFFAEDVGS     +\n",
              "2                  GYANNFLFKQG     +\n",
              "3                       STVQIE     -\n",
              "4                       NGERIE     -\n",
              "..                         ...   ...\n",
              "394            VHHQKLVPFAEDVGS     -\n",
              "395           YKQQSIQLIEAGVTKR     -\n",
              "396                 RCQNRDVRQY     -\n",
              "397              PGGG5VQIVYKPV     +\n",
              "398                     PTVIIE     -\n",
              "\n",
              "[399 rows x 2 columns]"
            ]
          },
          "metadata": {},
          "execution_count": 66
        }
      ]
    },
    {
      "cell_type": "code",
      "metadata": {
        "colab": {
          "base_uri": "https://localhost:8080/"
        },
        "id": "9Al-nPtggEIs",
        "outputId": "a051264d-abeb-4e85-b339-38027893fce9"
      },
      "source": [
        "df.isna().sum()"
      ],
      "execution_count": null,
      "outputs": [
        {
          "output_type": "execute_result",
          "data": {
            "text/plain": [
              "Sequence    0\n",
              "Class       4\n",
              "dtype: int64"
            ]
          },
          "metadata": {},
          "execution_count": 67
        }
      ]
    },
    {
      "cell_type": "code",
      "metadata": {
        "colab": {
          "base_uri": "https://localhost:8080/"
        },
        "id": "I9GWw37Rgojr",
        "outputId": "ba23645a-bb63-40b6-e08a-829ad158ce7b"
      },
      "source": [
        "df.Class.value_counts()"
      ],
      "execution_count": null,
      "outputs": [
        {
          "output_type": "execute_result",
          "data": {
            "text/plain": [
              "-    257\n",
              "+    138\n",
              "Name: Class, dtype: int64"
            ]
          },
          "metadata": {},
          "execution_count": 68
        }
      ]
    },
    {
      "cell_type": "code",
      "metadata": {
        "colab": {
          "base_uri": "https://localhost:8080/",
          "height": 423
        },
        "id": "70vVxPlCedum",
        "outputId": "0b0db58f-dfc9-4941-ff84-13500b827e90"
      },
      "source": [
        "df[\"Class\"] = df[\"Class\"].map({\"+\": 1, \"-\": 0})\n",
        "df['Class'] = df.Class.astype(pd.Int64Dtype())\n",
        "df"
      ],
      "execution_count": null,
      "outputs": [
        {
          "output_type": "execute_result",
          "data": {
            "text/html": [
              "<div>\n",
              "<style scoped>\n",
              "    .dataframe tbody tr th:only-of-type {\n",
              "        vertical-align: middle;\n",
              "    }\n",
              "\n",
              "    .dataframe tbody tr th {\n",
              "        vertical-align: top;\n",
              "    }\n",
              "\n",
              "    .dataframe thead th {\n",
              "        text-align: right;\n",
              "    }\n",
              "</style>\n",
              "<table border=\"1\" class=\"dataframe\">\n",
              "  <thead>\n",
              "    <tr style=\"text-align: right;\">\n",
              "      <th></th>\n",
              "      <th>Sequence</th>\n",
              "      <th>Class</th>\n",
              "    </tr>\n",
              "  </thead>\n",
              "  <tbody>\n",
              "    <tr>\n",
              "      <th>0</th>\n",
              "      <td>KGTFEKATSEAYAYADTLKKDNGEY</td>\n",
              "      <td>1</td>\n",
              "    </tr>\n",
              "    <tr>\n",
              "      <th>1</th>\n",
              "      <td>VHHPKLVFFAEDVGS</td>\n",
              "      <td>1</td>\n",
              "    </tr>\n",
              "    <tr>\n",
              "      <th>2</th>\n",
              "      <td>GYANNFLFKQG</td>\n",
              "      <td>1</td>\n",
              "    </tr>\n",
              "    <tr>\n",
              "      <th>3</th>\n",
              "      <td>STVQIE</td>\n",
              "      <td>0</td>\n",
              "    </tr>\n",
              "    <tr>\n",
              "      <th>4</th>\n",
              "      <td>NGERIE</td>\n",
              "      <td>0</td>\n",
              "    </tr>\n",
              "    <tr>\n",
              "      <th>...</th>\n",
              "      <td>...</td>\n",
              "      <td>...</td>\n",
              "    </tr>\n",
              "    <tr>\n",
              "      <th>394</th>\n",
              "      <td>VHHQKLVPFAEDVGS</td>\n",
              "      <td>0</td>\n",
              "    </tr>\n",
              "    <tr>\n",
              "      <th>395</th>\n",
              "      <td>YKQQSIQLIEAGVTKR</td>\n",
              "      <td>0</td>\n",
              "    </tr>\n",
              "    <tr>\n",
              "      <th>396</th>\n",
              "      <td>RCQNRDVRQY</td>\n",
              "      <td>0</td>\n",
              "    </tr>\n",
              "    <tr>\n",
              "      <th>397</th>\n",
              "      <td>PGGG5VQIVYKPV</td>\n",
              "      <td>1</td>\n",
              "    </tr>\n",
              "    <tr>\n",
              "      <th>398</th>\n",
              "      <td>PTVIIE</td>\n",
              "      <td>0</td>\n",
              "    </tr>\n",
              "  </tbody>\n",
              "</table>\n",
              "<p>399 rows × 2 columns</p>\n",
              "</div>"
            ],
            "text/plain": [
              "                      Sequence  Class\n",
              "0    KGTFEKATSEAYAYADTLKKDNGEY      1\n",
              "1              VHHPKLVFFAEDVGS      1\n",
              "2                  GYANNFLFKQG      1\n",
              "3                       STVQIE      0\n",
              "4                       NGERIE      0\n",
              "..                         ...    ...\n",
              "394            VHHQKLVPFAEDVGS      0\n",
              "395           YKQQSIQLIEAGVTKR      0\n",
              "396                 RCQNRDVRQY      0\n",
              "397              PGGG5VQIVYKPV      1\n",
              "398                     PTVIIE      0\n",
              "\n",
              "[399 rows x 2 columns]"
            ]
          },
          "metadata": {},
          "execution_count": 69
        }
      ]
    },
    {
      "cell_type": "code",
      "metadata": {
        "colab": {
          "base_uri": "https://localhost:8080/",
          "height": 423
        },
        "id": "UR5BFPahhNdV",
        "outputId": "412bf05f-ce99-4cd4-dc8f-6874c724c7e3"
      },
      "source": [
        "df2 = df.iloc[:, 0:1]\n",
        "df2"
      ],
      "execution_count": null,
      "outputs": [
        {
          "output_type": "execute_result",
          "data": {
            "text/html": [
              "<div>\n",
              "<style scoped>\n",
              "    .dataframe tbody tr th:only-of-type {\n",
              "        vertical-align: middle;\n",
              "    }\n",
              "\n",
              "    .dataframe tbody tr th {\n",
              "        vertical-align: top;\n",
              "    }\n",
              "\n",
              "    .dataframe thead th {\n",
              "        text-align: right;\n",
              "    }\n",
              "</style>\n",
              "<table border=\"1\" class=\"dataframe\">\n",
              "  <thead>\n",
              "    <tr style=\"text-align: right;\">\n",
              "      <th></th>\n",
              "      <th>Sequence</th>\n",
              "    </tr>\n",
              "  </thead>\n",
              "  <tbody>\n",
              "    <tr>\n",
              "      <th>0</th>\n",
              "      <td>KGTFEKATSEAYAYADTLKKDNGEY</td>\n",
              "    </tr>\n",
              "    <tr>\n",
              "      <th>1</th>\n",
              "      <td>VHHPKLVFFAEDVGS</td>\n",
              "    </tr>\n",
              "    <tr>\n",
              "      <th>2</th>\n",
              "      <td>GYANNFLFKQG</td>\n",
              "    </tr>\n",
              "    <tr>\n",
              "      <th>3</th>\n",
              "      <td>STVQIE</td>\n",
              "    </tr>\n",
              "    <tr>\n",
              "      <th>4</th>\n",
              "      <td>NGERIE</td>\n",
              "    </tr>\n",
              "    <tr>\n",
              "      <th>...</th>\n",
              "      <td>...</td>\n",
              "    </tr>\n",
              "    <tr>\n",
              "      <th>394</th>\n",
              "      <td>VHHQKLVPFAEDVGS</td>\n",
              "    </tr>\n",
              "    <tr>\n",
              "      <th>395</th>\n",
              "      <td>YKQQSIQLIEAGVTKR</td>\n",
              "    </tr>\n",
              "    <tr>\n",
              "      <th>396</th>\n",
              "      <td>RCQNRDVRQY</td>\n",
              "    </tr>\n",
              "    <tr>\n",
              "      <th>397</th>\n",
              "      <td>PGGG5VQIVYKPV</td>\n",
              "    </tr>\n",
              "    <tr>\n",
              "      <th>398</th>\n",
              "      <td>PTVIIE</td>\n",
              "    </tr>\n",
              "  </tbody>\n",
              "</table>\n",
              "<p>399 rows × 1 columns</p>\n",
              "</div>"
            ],
            "text/plain": [
              "                      Sequence\n",
              "0    KGTFEKATSEAYAYADTLKKDNGEY\n",
              "1              VHHPKLVFFAEDVGS\n",
              "2                  GYANNFLFKQG\n",
              "3                       STVQIE\n",
              "4                       NGERIE\n",
              "..                         ...\n",
              "394            VHHQKLVPFAEDVGS\n",
              "395           YKQQSIQLIEAGVTKR\n",
              "396                 RCQNRDVRQY\n",
              "397              PGGG5VQIVYKPV\n",
              "398                     PTVIIE\n",
              "\n",
              "[399 rows x 1 columns]"
            ]
          },
          "metadata": {},
          "execution_count": 70
        }
      ]
    },
    {
      "cell_type": "code",
      "metadata": {
        "colab": {
          "base_uri": "https://localhost:8080/",
          "height": 423
        },
        "id": "Mr8yat7beop8",
        "outputId": "8fd3118f-f001-472a-9473-de1b83ef9a93"
      },
      "source": [
        "for i in range (len(df2)):\n",
        "  df2['F1'] = df2.Sequence.apply(lambda x: x.count('N'))\n",
        "  df2['F2'] = df2.Sequence.apply(lambda x: x.count('H'))\n",
        "  df2['F3'] = df2.Sequence.apply(lambda x: x.count('Q'))\n",
        "  df2['F4'] = df2.Sequence.apply(lambda x: x.count('G'))\n",
        "  df2['F5'] = df2.Sequence.apply(lambda x: x.count('D'))\n",
        "  df2['F6'] = df2.Sequence.apply(lambda x: x.count('T'))\n",
        "df2"
      ],
      "execution_count": null,
      "outputs": [
        {
          "output_type": "execute_result",
          "data": {
            "text/html": [
              "<div>\n",
              "<style scoped>\n",
              "    .dataframe tbody tr th:only-of-type {\n",
              "        vertical-align: middle;\n",
              "    }\n",
              "\n",
              "    .dataframe tbody tr th {\n",
              "        vertical-align: top;\n",
              "    }\n",
              "\n",
              "    .dataframe thead th {\n",
              "        text-align: right;\n",
              "    }\n",
              "</style>\n",
              "<table border=\"1\" class=\"dataframe\">\n",
              "  <thead>\n",
              "    <tr style=\"text-align: right;\">\n",
              "      <th></th>\n",
              "      <th>Sequence</th>\n",
              "      <th>F1</th>\n",
              "      <th>F2</th>\n",
              "      <th>F3</th>\n",
              "      <th>F4</th>\n",
              "      <th>F5</th>\n",
              "      <th>F6</th>\n",
              "    </tr>\n",
              "  </thead>\n",
              "  <tbody>\n",
              "    <tr>\n",
              "      <th>0</th>\n",
              "      <td>KGTFEKATSEAYAYADTLKKDNGEY</td>\n",
              "      <td>1</td>\n",
              "      <td>0</td>\n",
              "      <td>0</td>\n",
              "      <td>2</td>\n",
              "      <td>2</td>\n",
              "      <td>3</td>\n",
              "    </tr>\n",
              "    <tr>\n",
              "      <th>1</th>\n",
              "      <td>VHHPKLVFFAEDVGS</td>\n",
              "      <td>0</td>\n",
              "      <td>2</td>\n",
              "      <td>0</td>\n",
              "      <td>1</td>\n",
              "      <td>1</td>\n",
              "      <td>0</td>\n",
              "    </tr>\n",
              "    <tr>\n",
              "      <th>2</th>\n",
              "      <td>GYANNFLFKQG</td>\n",
              "      <td>2</td>\n",
              "      <td>0</td>\n",
              "      <td>1</td>\n",
              "      <td>2</td>\n",
              "      <td>0</td>\n",
              "      <td>0</td>\n",
              "    </tr>\n",
              "    <tr>\n",
              "      <th>3</th>\n",
              "      <td>STVQIE</td>\n",
              "      <td>0</td>\n",
              "      <td>0</td>\n",
              "      <td>1</td>\n",
              "      <td>0</td>\n",
              "      <td>0</td>\n",
              "      <td>1</td>\n",
              "    </tr>\n",
              "    <tr>\n",
              "      <th>4</th>\n",
              "      <td>NGERIE</td>\n",
              "      <td>1</td>\n",
              "      <td>0</td>\n",
              "      <td>0</td>\n",
              "      <td>1</td>\n",
              "      <td>0</td>\n",
              "      <td>0</td>\n",
              "    </tr>\n",
              "    <tr>\n",
              "      <th>...</th>\n",
              "      <td>...</td>\n",
              "      <td>...</td>\n",
              "      <td>...</td>\n",
              "      <td>...</td>\n",
              "      <td>...</td>\n",
              "      <td>...</td>\n",
              "      <td>...</td>\n",
              "    </tr>\n",
              "    <tr>\n",
              "      <th>394</th>\n",
              "      <td>VHHQKLVPFAEDVGS</td>\n",
              "      <td>0</td>\n",
              "      <td>2</td>\n",
              "      <td>1</td>\n",
              "      <td>1</td>\n",
              "      <td>1</td>\n",
              "      <td>0</td>\n",
              "    </tr>\n",
              "    <tr>\n",
              "      <th>395</th>\n",
              "      <td>YKQQSIQLIEAGVTKR</td>\n",
              "      <td>0</td>\n",
              "      <td>0</td>\n",
              "      <td>3</td>\n",
              "      <td>1</td>\n",
              "      <td>0</td>\n",
              "      <td>1</td>\n",
              "    </tr>\n",
              "    <tr>\n",
              "      <th>396</th>\n",
              "      <td>RCQNRDVRQY</td>\n",
              "      <td>1</td>\n",
              "      <td>0</td>\n",
              "      <td>2</td>\n",
              "      <td>0</td>\n",
              "      <td>1</td>\n",
              "      <td>0</td>\n",
              "    </tr>\n",
              "    <tr>\n",
              "      <th>397</th>\n",
              "      <td>PGGG5VQIVYKPV</td>\n",
              "      <td>0</td>\n",
              "      <td>0</td>\n",
              "      <td>1</td>\n",
              "      <td>3</td>\n",
              "      <td>0</td>\n",
              "      <td>0</td>\n",
              "    </tr>\n",
              "    <tr>\n",
              "      <th>398</th>\n",
              "      <td>PTVIIE</td>\n",
              "      <td>0</td>\n",
              "      <td>0</td>\n",
              "      <td>0</td>\n",
              "      <td>0</td>\n",
              "      <td>0</td>\n",
              "      <td>1</td>\n",
              "    </tr>\n",
              "  </tbody>\n",
              "</table>\n",
              "<p>399 rows × 7 columns</p>\n",
              "</div>"
            ],
            "text/plain": [
              "                      Sequence  F1  F2  F3  F4  F5  F6\n",
              "0    KGTFEKATSEAYAYADTLKKDNGEY   1   0   0   2   2   3\n",
              "1              VHHPKLVFFAEDVGS   0   2   0   1   1   0\n",
              "2                  GYANNFLFKQG   2   0   1   2   0   0\n",
              "3                       STVQIE   0   0   1   0   0   1\n",
              "4                       NGERIE   1   0   0   1   0   0\n",
              "..                         ...  ..  ..  ..  ..  ..  ..\n",
              "394            VHHQKLVPFAEDVGS   0   2   1   1   1   0\n",
              "395           YKQQSIQLIEAGVTKR   0   0   3   1   0   1\n",
              "396                 RCQNRDVRQY   1   0   2   0   1   0\n",
              "397              PGGG5VQIVYKPV   0   0   1   3   0   0\n",
              "398                     PTVIIE   0   0   0   0   0   1\n",
              "\n",
              "[399 rows x 7 columns]"
            ]
          },
          "metadata": {},
          "execution_count": 71
        }
      ]
    },
    {
      "cell_type": "code",
      "metadata": {
        "colab": {
          "base_uri": "https://localhost:8080/",
          "height": 423
        },
        "id": "_yxhXD2aevkr",
        "outputId": "cd44b779-a6b7-4501-8c91-e4bb717a7ef3"
      },
      "source": [
        "df2['Sequence'] = df2.index+1\n",
        "df2"
      ],
      "execution_count": null,
      "outputs": [
        {
          "output_type": "execute_result",
          "data": {
            "text/html": [
              "<div>\n",
              "<style scoped>\n",
              "    .dataframe tbody tr th:only-of-type {\n",
              "        vertical-align: middle;\n",
              "    }\n",
              "\n",
              "    .dataframe tbody tr th {\n",
              "        vertical-align: top;\n",
              "    }\n",
              "\n",
              "    .dataframe thead th {\n",
              "        text-align: right;\n",
              "    }\n",
              "</style>\n",
              "<table border=\"1\" class=\"dataframe\">\n",
              "  <thead>\n",
              "    <tr style=\"text-align: right;\">\n",
              "      <th></th>\n",
              "      <th>Sequence</th>\n",
              "      <th>F1</th>\n",
              "      <th>F2</th>\n",
              "      <th>F3</th>\n",
              "      <th>F4</th>\n",
              "      <th>F5</th>\n",
              "      <th>F6</th>\n",
              "    </tr>\n",
              "  </thead>\n",
              "  <tbody>\n",
              "    <tr>\n",
              "      <th>0</th>\n",
              "      <td>1</td>\n",
              "      <td>1</td>\n",
              "      <td>0</td>\n",
              "      <td>0</td>\n",
              "      <td>2</td>\n",
              "      <td>2</td>\n",
              "      <td>3</td>\n",
              "    </tr>\n",
              "    <tr>\n",
              "      <th>1</th>\n",
              "      <td>2</td>\n",
              "      <td>0</td>\n",
              "      <td>2</td>\n",
              "      <td>0</td>\n",
              "      <td>1</td>\n",
              "      <td>1</td>\n",
              "      <td>0</td>\n",
              "    </tr>\n",
              "    <tr>\n",
              "      <th>2</th>\n",
              "      <td>3</td>\n",
              "      <td>2</td>\n",
              "      <td>0</td>\n",
              "      <td>1</td>\n",
              "      <td>2</td>\n",
              "      <td>0</td>\n",
              "      <td>0</td>\n",
              "    </tr>\n",
              "    <tr>\n",
              "      <th>3</th>\n",
              "      <td>4</td>\n",
              "      <td>0</td>\n",
              "      <td>0</td>\n",
              "      <td>1</td>\n",
              "      <td>0</td>\n",
              "      <td>0</td>\n",
              "      <td>1</td>\n",
              "    </tr>\n",
              "    <tr>\n",
              "      <th>4</th>\n",
              "      <td>5</td>\n",
              "      <td>1</td>\n",
              "      <td>0</td>\n",
              "      <td>0</td>\n",
              "      <td>1</td>\n",
              "      <td>0</td>\n",
              "      <td>0</td>\n",
              "    </tr>\n",
              "    <tr>\n",
              "      <th>...</th>\n",
              "      <td>...</td>\n",
              "      <td>...</td>\n",
              "      <td>...</td>\n",
              "      <td>...</td>\n",
              "      <td>...</td>\n",
              "      <td>...</td>\n",
              "      <td>...</td>\n",
              "    </tr>\n",
              "    <tr>\n",
              "      <th>394</th>\n",
              "      <td>395</td>\n",
              "      <td>0</td>\n",
              "      <td>2</td>\n",
              "      <td>1</td>\n",
              "      <td>1</td>\n",
              "      <td>1</td>\n",
              "      <td>0</td>\n",
              "    </tr>\n",
              "    <tr>\n",
              "      <th>395</th>\n",
              "      <td>396</td>\n",
              "      <td>0</td>\n",
              "      <td>0</td>\n",
              "      <td>3</td>\n",
              "      <td>1</td>\n",
              "      <td>0</td>\n",
              "      <td>1</td>\n",
              "    </tr>\n",
              "    <tr>\n",
              "      <th>396</th>\n",
              "      <td>397</td>\n",
              "      <td>1</td>\n",
              "      <td>0</td>\n",
              "      <td>2</td>\n",
              "      <td>0</td>\n",
              "      <td>1</td>\n",
              "      <td>0</td>\n",
              "    </tr>\n",
              "    <tr>\n",
              "      <th>397</th>\n",
              "      <td>398</td>\n",
              "      <td>0</td>\n",
              "      <td>0</td>\n",
              "      <td>1</td>\n",
              "      <td>3</td>\n",
              "      <td>0</td>\n",
              "      <td>0</td>\n",
              "    </tr>\n",
              "    <tr>\n",
              "      <th>398</th>\n",
              "      <td>399</td>\n",
              "      <td>0</td>\n",
              "      <td>0</td>\n",
              "      <td>0</td>\n",
              "      <td>0</td>\n",
              "      <td>0</td>\n",
              "      <td>1</td>\n",
              "    </tr>\n",
              "  </tbody>\n",
              "</table>\n",
              "<p>399 rows × 7 columns</p>\n",
              "</div>"
            ],
            "text/plain": [
              "     Sequence  F1  F2  F3  F4  F5  F6\n",
              "0           1   1   0   0   2   2   3\n",
              "1           2   0   2   0   1   1   0\n",
              "2           3   2   0   1   2   0   0\n",
              "3           4   0   0   1   0   0   1\n",
              "4           5   1   0   0   1   0   0\n",
              "..        ...  ..  ..  ..  ..  ..  ..\n",
              "394       395   0   2   1   1   1   0\n",
              "395       396   0   0   3   1   0   1\n",
              "396       397   1   0   2   0   1   0\n",
              "397       398   0   0   1   3   0   0\n",
              "398       399   0   0   0   0   0   1\n",
              "\n",
              "[399 rows x 7 columns]"
            ]
          },
          "metadata": {},
          "execution_count": 72
        }
      ]
    },
    {
      "cell_type": "code",
      "metadata": {
        "colab": {
          "base_uri": "https://localhost:8080/",
          "height": 423
        },
        "id": "NjYR1y0nfP2M",
        "outputId": "d2433726-ed11-494a-ab3d-dd04dec787fb"
      },
      "source": [
        "df2['Class'] = df.iloc[:, 1:2]\n",
        "df2"
      ],
      "execution_count": null,
      "outputs": [
        {
          "output_type": "execute_result",
          "data": {
            "text/html": [
              "<div>\n",
              "<style scoped>\n",
              "    .dataframe tbody tr th:only-of-type {\n",
              "        vertical-align: middle;\n",
              "    }\n",
              "\n",
              "    .dataframe tbody tr th {\n",
              "        vertical-align: top;\n",
              "    }\n",
              "\n",
              "    .dataframe thead th {\n",
              "        text-align: right;\n",
              "    }\n",
              "</style>\n",
              "<table border=\"1\" class=\"dataframe\">\n",
              "  <thead>\n",
              "    <tr style=\"text-align: right;\">\n",
              "      <th></th>\n",
              "      <th>Sequence</th>\n",
              "      <th>F1</th>\n",
              "      <th>F2</th>\n",
              "      <th>F3</th>\n",
              "      <th>F4</th>\n",
              "      <th>F5</th>\n",
              "      <th>F6</th>\n",
              "      <th>Class</th>\n",
              "    </tr>\n",
              "  </thead>\n",
              "  <tbody>\n",
              "    <tr>\n",
              "      <th>0</th>\n",
              "      <td>1</td>\n",
              "      <td>1</td>\n",
              "      <td>0</td>\n",
              "      <td>0</td>\n",
              "      <td>2</td>\n",
              "      <td>2</td>\n",
              "      <td>3</td>\n",
              "      <td>1</td>\n",
              "    </tr>\n",
              "    <tr>\n",
              "      <th>1</th>\n",
              "      <td>2</td>\n",
              "      <td>0</td>\n",
              "      <td>2</td>\n",
              "      <td>0</td>\n",
              "      <td>1</td>\n",
              "      <td>1</td>\n",
              "      <td>0</td>\n",
              "      <td>1</td>\n",
              "    </tr>\n",
              "    <tr>\n",
              "      <th>2</th>\n",
              "      <td>3</td>\n",
              "      <td>2</td>\n",
              "      <td>0</td>\n",
              "      <td>1</td>\n",
              "      <td>2</td>\n",
              "      <td>0</td>\n",
              "      <td>0</td>\n",
              "      <td>1</td>\n",
              "    </tr>\n",
              "    <tr>\n",
              "      <th>3</th>\n",
              "      <td>4</td>\n",
              "      <td>0</td>\n",
              "      <td>0</td>\n",
              "      <td>1</td>\n",
              "      <td>0</td>\n",
              "      <td>0</td>\n",
              "      <td>1</td>\n",
              "      <td>0</td>\n",
              "    </tr>\n",
              "    <tr>\n",
              "      <th>4</th>\n",
              "      <td>5</td>\n",
              "      <td>1</td>\n",
              "      <td>0</td>\n",
              "      <td>0</td>\n",
              "      <td>1</td>\n",
              "      <td>0</td>\n",
              "      <td>0</td>\n",
              "      <td>0</td>\n",
              "    </tr>\n",
              "    <tr>\n",
              "      <th>...</th>\n",
              "      <td>...</td>\n",
              "      <td>...</td>\n",
              "      <td>...</td>\n",
              "      <td>...</td>\n",
              "      <td>...</td>\n",
              "      <td>...</td>\n",
              "      <td>...</td>\n",
              "      <td>...</td>\n",
              "    </tr>\n",
              "    <tr>\n",
              "      <th>394</th>\n",
              "      <td>395</td>\n",
              "      <td>0</td>\n",
              "      <td>2</td>\n",
              "      <td>1</td>\n",
              "      <td>1</td>\n",
              "      <td>1</td>\n",
              "      <td>0</td>\n",
              "      <td>0</td>\n",
              "    </tr>\n",
              "    <tr>\n",
              "      <th>395</th>\n",
              "      <td>396</td>\n",
              "      <td>0</td>\n",
              "      <td>0</td>\n",
              "      <td>3</td>\n",
              "      <td>1</td>\n",
              "      <td>0</td>\n",
              "      <td>1</td>\n",
              "      <td>0</td>\n",
              "    </tr>\n",
              "    <tr>\n",
              "      <th>396</th>\n",
              "      <td>397</td>\n",
              "      <td>1</td>\n",
              "      <td>0</td>\n",
              "      <td>2</td>\n",
              "      <td>0</td>\n",
              "      <td>1</td>\n",
              "      <td>0</td>\n",
              "      <td>0</td>\n",
              "    </tr>\n",
              "    <tr>\n",
              "      <th>397</th>\n",
              "      <td>398</td>\n",
              "      <td>0</td>\n",
              "      <td>0</td>\n",
              "      <td>1</td>\n",
              "      <td>3</td>\n",
              "      <td>0</td>\n",
              "      <td>0</td>\n",
              "      <td>1</td>\n",
              "    </tr>\n",
              "    <tr>\n",
              "      <th>398</th>\n",
              "      <td>399</td>\n",
              "      <td>0</td>\n",
              "      <td>0</td>\n",
              "      <td>0</td>\n",
              "      <td>0</td>\n",
              "      <td>0</td>\n",
              "      <td>1</td>\n",
              "      <td>0</td>\n",
              "    </tr>\n",
              "  </tbody>\n",
              "</table>\n",
              "<p>399 rows × 8 columns</p>\n",
              "</div>"
            ],
            "text/plain": [
              "     Sequence  F1  F2  F3  F4  F5  F6 Class\n",
              "0           1   1   0   0   2   2   3     1\n",
              "1           2   0   2   0   1   1   0     1\n",
              "2           3   2   0   1   2   0   0     1\n",
              "3           4   0   0   1   0   0   1     0\n",
              "4           5   1   0   0   1   0   0     0\n",
              "..        ...  ..  ..  ..  ..  ..  ..   ...\n",
              "394       395   0   2   1   1   1   0     0\n",
              "395       396   0   0   3   1   0   1     0\n",
              "396       397   1   0   2   0   1   0     0\n",
              "397       398   0   0   1   3   0   0     1\n",
              "398       399   0   0   0   0   0   1     0\n",
              "\n",
              "[399 rows x 8 columns]"
            ]
          },
          "metadata": {},
          "execution_count": 73
        }
      ]
    },
    {
      "cell_type": "code",
      "metadata": {
        "colab": {
          "base_uri": "https://localhost:8080/"
        },
        "id": "6whdnyeMln35",
        "outputId": "b655c122-b997-411c-8b16-2ab754397afc"
      },
      "source": [
        "df2.isna().sum()"
      ],
      "execution_count": null,
      "outputs": [
        {
          "output_type": "execute_result",
          "data": {
            "text/plain": [
              "Sequence    0\n",
              "F1          0\n",
              "F2          0\n",
              "F3          0\n",
              "F4          0\n",
              "F5          0\n",
              "F6          0\n",
              "Class       4\n",
              "dtype: int64"
            ]
          },
          "metadata": {},
          "execution_count": 77
        }
      ]
    },
    {
      "cell_type": "code",
      "metadata": {
        "id": "axwYiH9miLEE"
      },
      "source": [
        "df2.to_csv(\"/content/drive/MyDrive/Data Science Practical/result-101903567.csv\", index = False)"
      ],
      "execution_count": null,
      "outputs": []
    },
    {
      "cell_type": "code",
      "metadata": {
        "colab": {
          "base_uri": "https://localhost:8080/",
          "height": 423
        },
        "id": "Ysm4Kl7Pipp-",
        "outputId": "c166ca3e-5300-4d09-b2c7-32c54afbd60e"
      },
      "source": [
        "# Program 1.2\n",
        "import pandas as pd\n",
        "df12 = pd.read_csv(r'/content/drive/MyDrive/Data Science Practical/proteinSequenceFile2.csv')\n",
        "df12"
      ],
      "execution_count": null,
      "outputs": [
        {
          "output_type": "execute_result",
          "data": {
            "text/html": [
              "<div>\n",
              "<style scoped>\n",
              "    .dataframe tbody tr th:only-of-type {\n",
              "        vertical-align: middle;\n",
              "    }\n",
              "\n",
              "    .dataframe tbody tr th {\n",
              "        vertical-align: top;\n",
              "    }\n",
              "\n",
              "    .dataframe thead th {\n",
              "        text-align: right;\n",
              "    }\n",
              "</style>\n",
              "<table border=\"1\" class=\"dataframe\">\n",
              "  <thead>\n",
              "    <tr style=\"text-align: right;\">\n",
              "      <th></th>\n",
              "      <th>Sequence</th>\n",
              "      <th>Class</th>\n",
              "    </tr>\n",
              "  </thead>\n",
              "  <tbody>\n",
              "    <tr>\n",
              "      <th>0</th>\n",
              "      <td>SDIEVDLLKN</td>\n",
              "      <td>-</td>\n",
              "    </tr>\n",
              "    <tr>\n",
              "      <th>1</th>\n",
              "      <td>MVGKVTVN</td>\n",
              "      <td>-</td>\n",
              "    </tr>\n",
              "    <tr>\n",
              "      <th>2</th>\n",
              "      <td>YLLYYTEFTP</td>\n",
              "      <td>+</td>\n",
              "    </tr>\n",
              "    <tr>\n",
              "      <th>3</th>\n",
              "      <td>TESKEKITQYIYHVLNGEIL</td>\n",
              "      <td>+</td>\n",
              "    </tr>\n",
              "    <tr>\n",
              "      <th>4</th>\n",
              "      <td>QTAPVPMPDLKNVKSKIGSTE</td>\n",
              "      <td>NaN</td>\n",
              "    </tr>\n",
              "    <tr>\n",
              "      <th>...</th>\n",
              "      <td>...</td>\n",
              "      <td>...</td>\n",
              "    </tr>\n",
              "    <tr>\n",
              "      <th>419</th>\n",
              "      <td>MDEYSNQNNF</td>\n",
              "      <td>-</td>\n",
              "    </tr>\n",
              "    <tr>\n",
              "      <th>420</th>\n",
              "      <td>STVIIQ</td>\n",
              "      <td>+</td>\n",
              "    </tr>\n",
              "    <tr>\n",
              "      <th>421</th>\n",
              "      <td>STVIIM</td>\n",
              "      <td>+</td>\n",
              "    </tr>\n",
              "    <tr>\n",
              "      <th>422</th>\n",
              "      <td>TTTKGENFTE</td>\n",
              "      <td>-</td>\n",
              "    </tr>\n",
              "    <tr>\n",
              "      <th>423</th>\n",
              "      <td>PTEKDE</td>\n",
              "      <td>-</td>\n",
              "    </tr>\n",
              "  </tbody>\n",
              "</table>\n",
              "<p>424 rows × 2 columns</p>\n",
              "</div>"
            ],
            "text/plain": [
              "                  Sequence Class\n",
              "0               SDIEVDLLKN     -\n",
              "1                 MVGKVTVN     -\n",
              "2               YLLYYTEFTP     +\n",
              "3     TESKEKITQYIYHVLNGEIL     +\n",
              "4    QTAPVPMPDLKNVKSKIGSTE   NaN\n",
              "..                     ...   ...\n",
              "419             MDEYSNQNNF     -\n",
              "420                 STVIIQ     +\n",
              "421                 STVIIM     +\n",
              "422             TTTKGENFTE     -\n",
              "423                 PTEKDE     -\n",
              "\n",
              "[424 rows x 2 columns]"
            ]
          },
          "metadata": {},
          "execution_count": 98
        }
      ]
    },
    {
      "cell_type": "code",
      "metadata": {
        "colab": {
          "base_uri": "https://localhost:8080/"
        },
        "id": "TuWQZr1BnM9s",
        "outputId": "8c38963b-569b-4a45-a5a1-77146b9c4c11"
      },
      "source": [
        "df12.isna().sum()"
      ],
      "execution_count": null,
      "outputs": [
        {
          "output_type": "execute_result",
          "data": {
            "text/plain": [
              "Sequence    0\n",
              "Class       4\n",
              "dtype: int64"
            ]
          },
          "metadata": {},
          "execution_count": 99
        }
      ]
    },
    {
      "cell_type": "code",
      "metadata": {
        "id": "1Zw-raegl9cD"
      },
      "source": [
        "def has_numbers(inputString):\n",
        "  return any(char.isdigit() for char in inputString)"
      ],
      "execution_count": null,
      "outputs": []
    },
    {
      "cell_type": "code",
      "metadata": {
        "id": "Hfe5ydouoDNG"
      },
      "source": [
        "FileName = []\n",
        "Sequence = []\n",
        "Class = []\n",
        "for i in range(len(df12)):\n",
        "  if (has_numbers(df12.loc[i, 'Sequence']) == True):\n",
        "    FileName.append('file1.csv')\n",
        "    Sequence.append(df12.loc[i, 'Sequence'])\n",
        "    Class.append(df12.loc[i, 'Class'])\n",
        "  elif (pd.isnull(df12.loc[i, 'Class']) == True):\n",
        "    FileName.append('file2.csv')\n",
        "    Sequence.append(df12.loc[i, 'Sequence'])\n",
        "    Class.append(df12.loc[i, 'Class'])\n",
        "  elif (pd.isnull(df12.loc[i, 'Sequence']) == True):\n",
        "    FileName.append('file3.txt')\n",
        "    Sequence.append(df12.loc[i, 'Sequence'])\n",
        "    Class.append(df12.loc[i, 'Class'])\n",
        "  elif ((has_numbers(df12.loc[i, 'Sequence']) == True) and (pd.isnull(df12.loc[i, 'Class']) == True)):\n",
        "    FileName.append('file4.txt')\n",
        "    Sequence.append(df12.loc[i, 'Sequence'])\n",
        "    Class.append(df12.loc[i, 'Class'])"
      ],
      "execution_count": null,
      "outputs": []
    },
    {
      "cell_type": "code",
      "metadata": {
        "colab": {
          "base_uri": "https://localhost:8080/"
        },
        "id": "h8qp_XF1rqMa",
        "outputId": "742d1d56-08ce-4f06-ea67-caddf9d64caf"
      },
      "source": [
        "print(FileName)\n",
        "print(Sequence)\n",
        "print(Class)"
      ],
      "execution_count": null,
      "outputs": [
        {
          "output_type": "stream",
          "name": "stdout",
          "text": [
            "['file2.csv', 'file1.csv', 'file1.csv', 'file1.csv', 'file1.csv', 'file2.csv', 'file2.csv', 'file1.csv', 'file2.csv']\n",
            "['QTAPVPMPDLKNVKSKIGSTE', 'PGGGKN8EVYKPV', 'PGGG5VQIVYKPV', 'QTAPVPMPDLKNVKSKIGS67ENLKHQPGGGKVQIVY', 'PG33GKVQIVEKPV', 'NLKHQPGGGKVQIVYKPVDLSKVTSKCGSLGNIHHKPGGGQVE', 'KDRVQSKIGSLDNITHVPGGGN', 'PGGGKV3KPV', 'KPVDLSKVTSKCGSLGNIHHKPGGGQVEVKSEKLDF']\n",
            "[nan, '-', '+', '-', '-', nan, nan, '-', nan]\n"
          ]
        }
      ]
    },
    {
      "cell_type": "code",
      "metadata": {
        "colab": {
          "base_uri": "https://localhost:8080/",
          "height": 331
        },
        "id": "Oit_WPJ3sg9R",
        "outputId": "872d2782-8f6b-401f-92bc-be77a439442c"
      },
      "source": [
        "df12_res = pd.DataFrame(FileName, columns =['FileName'])\n",
        "df12_res['Sequence'] = Sequence\n",
        "df12_res['Class'] = Class\n",
        "df12_res"
      ],
      "execution_count": null,
      "outputs": [
        {
          "output_type": "execute_result",
          "data": {
            "text/html": [
              "<div>\n",
              "<style scoped>\n",
              "    .dataframe tbody tr th:only-of-type {\n",
              "        vertical-align: middle;\n",
              "    }\n",
              "\n",
              "    .dataframe tbody tr th {\n",
              "        vertical-align: top;\n",
              "    }\n",
              "\n",
              "    .dataframe thead th {\n",
              "        text-align: right;\n",
              "    }\n",
              "</style>\n",
              "<table border=\"1\" class=\"dataframe\">\n",
              "  <thead>\n",
              "    <tr style=\"text-align: right;\">\n",
              "      <th></th>\n",
              "      <th>FileName</th>\n",
              "      <th>Sequence</th>\n",
              "      <th>Class</th>\n",
              "    </tr>\n",
              "  </thead>\n",
              "  <tbody>\n",
              "    <tr>\n",
              "      <th>0</th>\n",
              "      <td>file2.csv</td>\n",
              "      <td>QTAPVPMPDLKNVKSKIGSTE</td>\n",
              "      <td>NaN</td>\n",
              "    </tr>\n",
              "    <tr>\n",
              "      <th>1</th>\n",
              "      <td>file1.csv</td>\n",
              "      <td>PGGGKN8EVYKPV</td>\n",
              "      <td>-</td>\n",
              "    </tr>\n",
              "    <tr>\n",
              "      <th>2</th>\n",
              "      <td>file1.csv</td>\n",
              "      <td>PGGG5VQIVYKPV</td>\n",
              "      <td>+</td>\n",
              "    </tr>\n",
              "    <tr>\n",
              "      <th>3</th>\n",
              "      <td>file1.csv</td>\n",
              "      <td>QTAPVPMPDLKNVKSKIGS67ENLKHQPGGGKVQIVY</td>\n",
              "      <td>-</td>\n",
              "    </tr>\n",
              "    <tr>\n",
              "      <th>4</th>\n",
              "      <td>file1.csv</td>\n",
              "      <td>PG33GKVQIVEKPV</td>\n",
              "      <td>-</td>\n",
              "    </tr>\n",
              "    <tr>\n",
              "      <th>5</th>\n",
              "      <td>file2.csv</td>\n",
              "      <td>NLKHQPGGGKVQIVYKPVDLSKVTSKCGSLGNIHHKPGGGQVE</td>\n",
              "      <td>NaN</td>\n",
              "    </tr>\n",
              "    <tr>\n",
              "      <th>6</th>\n",
              "      <td>file2.csv</td>\n",
              "      <td>KDRVQSKIGSLDNITHVPGGGN</td>\n",
              "      <td>NaN</td>\n",
              "    </tr>\n",
              "    <tr>\n",
              "      <th>7</th>\n",
              "      <td>file1.csv</td>\n",
              "      <td>PGGGKV3KPV</td>\n",
              "      <td>-</td>\n",
              "    </tr>\n",
              "    <tr>\n",
              "      <th>8</th>\n",
              "      <td>file2.csv</td>\n",
              "      <td>KPVDLSKVTSKCGSLGNIHHKPGGGQVEVKSEKLDF</td>\n",
              "      <td>NaN</td>\n",
              "    </tr>\n",
              "  </tbody>\n",
              "</table>\n",
              "</div>"
            ],
            "text/plain": [
              "    FileName                                     Sequence Class\n",
              "0  file2.csv                        QTAPVPMPDLKNVKSKIGSTE   NaN\n",
              "1  file1.csv                                PGGGKN8EVYKPV     -\n",
              "2  file1.csv                                PGGG5VQIVYKPV     +\n",
              "3  file1.csv        QTAPVPMPDLKNVKSKIGS67ENLKHQPGGGKVQIVY     -\n",
              "4  file1.csv                               PG33GKVQIVEKPV     -\n",
              "5  file2.csv  NLKHQPGGGKVQIVYKPVDLSKVTSKCGSLGNIHHKPGGGQVE   NaN\n",
              "6  file2.csv                       KDRVQSKIGSLDNITHVPGGGN   NaN\n",
              "7  file1.csv                                   PGGGKV3KPV     -\n",
              "8  file2.csv         KPVDLSKVTSKCGSLGNIHHKPGGGQVEVKSEKLDF   NaN"
            ]
          },
          "metadata": {},
          "execution_count": 103
        }
      ]
    },
    {
      "cell_type": "code",
      "metadata": {
        "colab": {
          "base_uri": "https://localhost:8080/",
          "height": 331
        },
        "id": "IhOFTAxZtIHR",
        "outputId": "ae0bb1ab-f7e8-4c3a-a9e4-8d74a26b6cc5"
      },
      "source": [
        "df12_res.fillna('', inplace=True)\n",
        "df12_res"
      ],
      "execution_count": null,
      "outputs": [
        {
          "output_type": "execute_result",
          "data": {
            "text/html": [
              "<div>\n",
              "<style scoped>\n",
              "    .dataframe tbody tr th:only-of-type {\n",
              "        vertical-align: middle;\n",
              "    }\n",
              "\n",
              "    .dataframe tbody tr th {\n",
              "        vertical-align: top;\n",
              "    }\n",
              "\n",
              "    .dataframe thead th {\n",
              "        text-align: right;\n",
              "    }\n",
              "</style>\n",
              "<table border=\"1\" class=\"dataframe\">\n",
              "  <thead>\n",
              "    <tr style=\"text-align: right;\">\n",
              "      <th></th>\n",
              "      <th>FileName</th>\n",
              "      <th>Sequence</th>\n",
              "      <th>Class</th>\n",
              "    </tr>\n",
              "  </thead>\n",
              "  <tbody>\n",
              "    <tr>\n",
              "      <th>0</th>\n",
              "      <td>file2.csv</td>\n",
              "      <td>QTAPVPMPDLKNVKSKIGSTE</td>\n",
              "      <td></td>\n",
              "    </tr>\n",
              "    <tr>\n",
              "      <th>1</th>\n",
              "      <td>file1.csv</td>\n",
              "      <td>PGGGKN8EVYKPV</td>\n",
              "      <td>-</td>\n",
              "    </tr>\n",
              "    <tr>\n",
              "      <th>2</th>\n",
              "      <td>file1.csv</td>\n",
              "      <td>PGGG5VQIVYKPV</td>\n",
              "      <td>+</td>\n",
              "    </tr>\n",
              "    <tr>\n",
              "      <th>3</th>\n",
              "      <td>file1.csv</td>\n",
              "      <td>QTAPVPMPDLKNVKSKIGS67ENLKHQPGGGKVQIVY</td>\n",
              "      <td>-</td>\n",
              "    </tr>\n",
              "    <tr>\n",
              "      <th>4</th>\n",
              "      <td>file1.csv</td>\n",
              "      <td>PG33GKVQIVEKPV</td>\n",
              "      <td>-</td>\n",
              "    </tr>\n",
              "    <tr>\n",
              "      <th>5</th>\n",
              "      <td>file2.csv</td>\n",
              "      <td>NLKHQPGGGKVQIVYKPVDLSKVTSKCGSLGNIHHKPGGGQVE</td>\n",
              "      <td></td>\n",
              "    </tr>\n",
              "    <tr>\n",
              "      <th>6</th>\n",
              "      <td>file2.csv</td>\n",
              "      <td>KDRVQSKIGSLDNITHVPGGGN</td>\n",
              "      <td></td>\n",
              "    </tr>\n",
              "    <tr>\n",
              "      <th>7</th>\n",
              "      <td>file1.csv</td>\n",
              "      <td>PGGGKV3KPV</td>\n",
              "      <td>-</td>\n",
              "    </tr>\n",
              "    <tr>\n",
              "      <th>8</th>\n",
              "      <td>file2.csv</td>\n",
              "      <td>KPVDLSKVTSKCGSLGNIHHKPGGGQVEVKSEKLDF</td>\n",
              "      <td></td>\n",
              "    </tr>\n",
              "  </tbody>\n",
              "</table>\n",
              "</div>"
            ],
            "text/plain": [
              "    FileName                                     Sequence Class\n",
              "0  file2.csv                        QTAPVPMPDLKNVKSKIGSTE      \n",
              "1  file1.csv                                PGGGKN8EVYKPV     -\n",
              "2  file1.csv                                PGGG5VQIVYKPV     +\n",
              "3  file1.csv        QTAPVPMPDLKNVKSKIGS67ENLKHQPGGGKVQIVY     -\n",
              "4  file1.csv                               PG33GKVQIVEKPV     -\n",
              "5  file2.csv  NLKHQPGGGKVQIVYKPVDLSKVTSKCGSLGNIHHKPGGGQVE      \n",
              "6  file2.csv                       KDRVQSKIGSLDNITHVPGGGN      \n",
              "7  file1.csv                                   PGGGKV3KPV     -\n",
              "8  file2.csv         KPVDLSKVTSKCGSLGNIHHKPGGGQVEVKSEKLDF      "
            ]
          },
          "metadata": {},
          "execution_count": 104
        }
      ]
    },
    {
      "cell_type": "code",
      "metadata": {
        "id": "QOeTkhi3tZaA"
      },
      "source": [
        "df12_res.to_csv(\"/content/drive/MyDrive/Data Science Practical/log-101903567.csv\", index = False)"
      ],
      "execution_count": null,
      "outputs": []
    },
    {
      "cell_type": "code",
      "metadata": {
        "colab": {
          "base_uri": "https://localhost:8080/",
          "height": 35
        },
        "id": "_jajj--VtvQ4",
        "outputId": "9c7e1498-dd21-4f30-ec86-2884958b0b93"
      },
      "source": [
        "# Program 1.3\n",
        "import time\n",
        "output_file_name = \"result-\" + str(time.time()) + \".csv\"\n",
        "output_file_name"
      ],
      "execution_count": null,
      "outputs": [
        {
          "output_type": "execute_result",
          "data": {
            "application/vnd.google.colaboratory.intrinsic+json": {
              "type": "string"
            },
            "text/plain": [
              "'result-1638192153.6497555.csv'"
            ]
          },
          "metadata": {},
          "execution_count": 107
        }
      ]
    },
    {
      "cell_type": "code",
      "metadata": {
        "id": "0CW3l4_33J-r"
      },
      "source": [
        "df2.to_csv(\"/content/drive/MyDrive/Data Science Practical/\"+output_file_name, index = False)"
      ],
      "execution_count": null,
      "outputs": []
    },
    {
      "cell_type": "code",
      "metadata": {
        "id": "D9mP8IDU3d-y"
      },
      "source": [
        "log_file_name = \"log-\" + str(time.time()) + \".csv\"\n",
        "df12_res.to_csv(\"/content/drive/MyDrive/Data Science Practical/\"+log_file_name, index = False)"
      ],
      "execution_count": null,
      "outputs": []
    },
    {
      "cell_type": "code",
      "metadata": {
        "colab": {
          "base_uri": "https://localhost:8080/",
          "height": 206
        },
        "id": "hc2IqRkuc8TG",
        "outputId": "cadefb80-3e16-42eb-dc3c-362825a087ae"
      },
      "source": [
        "# Program 2\n",
        "import pandas as pd\n",
        "df = pd.read_csv(r'/content/drive/MyDrive/Data Science Practical/topsis.csv')\n",
        "df"
      ],
      "execution_count": null,
      "outputs": [
        {
          "output_type": "execute_result",
          "data": {
            "text/html": [
              "<div>\n",
              "<style scoped>\n",
              "    .dataframe tbody tr th:only-of-type {\n",
              "        vertical-align: middle;\n",
              "    }\n",
              "\n",
              "    .dataframe tbody tr th {\n",
              "        vertical-align: top;\n",
              "    }\n",
              "\n",
              "    .dataframe thead th {\n",
              "        text-align: right;\n",
              "    }\n",
              "</style>\n",
              "<table border=\"1\" class=\"dataframe\">\n",
              "  <thead>\n",
              "    <tr style=\"text-align: right;\">\n",
              "      <th></th>\n",
              "      <th>Model</th>\n",
              "      <th>Corr</th>\n",
              "      <th>Rseq</th>\n",
              "      <th>RMSE</th>\n",
              "      <th>Accuracy</th>\n",
              "    </tr>\n",
              "  </thead>\n",
              "  <tbody>\n",
              "    <tr>\n",
              "      <th>0</th>\n",
              "      <td>M1</td>\n",
              "      <td>0.79</td>\n",
              "      <td>0.62</td>\n",
              "      <td>1.25</td>\n",
              "      <td>60.89</td>\n",
              "    </tr>\n",
              "    <tr>\n",
              "      <th>1</th>\n",
              "      <td>M2</td>\n",
              "      <td>0.66</td>\n",
              "      <td>0.44</td>\n",
              "      <td>2.89</td>\n",
              "      <td>63.07</td>\n",
              "    </tr>\n",
              "    <tr>\n",
              "      <th>2</th>\n",
              "      <td>M3</td>\n",
              "      <td>0.56</td>\n",
              "      <td>0.31</td>\n",
              "      <td>1.57</td>\n",
              "      <td>62.87</td>\n",
              "    </tr>\n",
              "    <tr>\n",
              "      <th>3</th>\n",
              "      <td>M4</td>\n",
              "      <td>0.82</td>\n",
              "      <td>0.67</td>\n",
              "      <td>2.68</td>\n",
              "      <td>70.19</td>\n",
              "    </tr>\n",
              "    <tr>\n",
              "      <th>4</th>\n",
              "      <td>M5</td>\n",
              "      <td>0.75</td>\n",
              "      <td>0.56</td>\n",
              "      <td>1.30</td>\n",
              "      <td>80.39</td>\n",
              "    </tr>\n",
              "  </tbody>\n",
              "</table>\n",
              "</div>"
            ],
            "text/plain": [
              "  Model  Corr  Rseq  RMSE  Accuracy\n",
              "0    M1  0.79  0.62  1.25     60.89\n",
              "1    M2  0.66  0.44  2.89     63.07\n",
              "2    M3  0.56  0.31  1.57     62.87\n",
              "3    M4  0.82  0.67  2.68     70.19\n",
              "4    M5  0.75  0.56  1.30     80.39"
            ]
          },
          "metadata": {},
          "execution_count": 1
        }
      ]
    },
    {
      "cell_type": "code",
      "metadata": {
        "colab": {
          "base_uri": "https://localhost:8080/",
          "height": 206
        },
        "id": "s4yojwLjalc-",
        "outputId": "62ad8b17-b417-484a-ed0b-8445a3f0b836"
      },
      "source": [
        "x = df.iloc[:, 1:5]\n",
        "x"
      ],
      "execution_count": null,
      "outputs": [
        {
          "output_type": "execute_result",
          "data": {
            "text/html": [
              "<div>\n",
              "<style scoped>\n",
              "    .dataframe tbody tr th:only-of-type {\n",
              "        vertical-align: middle;\n",
              "    }\n",
              "\n",
              "    .dataframe tbody tr th {\n",
              "        vertical-align: top;\n",
              "    }\n",
              "\n",
              "    .dataframe thead th {\n",
              "        text-align: right;\n",
              "    }\n",
              "</style>\n",
              "<table border=\"1\" class=\"dataframe\">\n",
              "  <thead>\n",
              "    <tr style=\"text-align: right;\">\n",
              "      <th></th>\n",
              "      <th>Corr</th>\n",
              "      <th>Rseq</th>\n",
              "      <th>RMSE</th>\n",
              "      <th>Accuracy</th>\n",
              "    </tr>\n",
              "  </thead>\n",
              "  <tbody>\n",
              "    <tr>\n",
              "      <th>0</th>\n",
              "      <td>0.79</td>\n",
              "      <td>0.62</td>\n",
              "      <td>1.25</td>\n",
              "      <td>60.89</td>\n",
              "    </tr>\n",
              "    <tr>\n",
              "      <th>1</th>\n",
              "      <td>0.66</td>\n",
              "      <td>0.44</td>\n",
              "      <td>2.89</td>\n",
              "      <td>63.07</td>\n",
              "    </tr>\n",
              "    <tr>\n",
              "      <th>2</th>\n",
              "      <td>0.56</td>\n",
              "      <td>0.31</td>\n",
              "      <td>1.57</td>\n",
              "      <td>62.87</td>\n",
              "    </tr>\n",
              "    <tr>\n",
              "      <th>3</th>\n",
              "      <td>0.82</td>\n",
              "      <td>0.67</td>\n",
              "      <td>2.68</td>\n",
              "      <td>70.19</td>\n",
              "    </tr>\n",
              "    <tr>\n",
              "      <th>4</th>\n",
              "      <td>0.75</td>\n",
              "      <td>0.56</td>\n",
              "      <td>1.30</td>\n",
              "      <td>80.39</td>\n",
              "    </tr>\n",
              "  </tbody>\n",
              "</table>\n",
              "</div>"
            ],
            "text/plain": [
              "   Corr  Rseq  RMSE  Accuracy\n",
              "0  0.79  0.62  1.25     60.89\n",
              "1  0.66  0.44  2.89     63.07\n",
              "2  0.56  0.31  1.57     62.87\n",
              "3  0.82  0.67  2.68     70.19\n",
              "4  0.75  0.56  1.30     80.39"
            ]
          },
          "metadata": {},
          "execution_count": 2
        }
      ]
    },
    {
      "cell_type": "code",
      "metadata": {
        "colab": {
          "base_uri": "https://localhost:8080/"
        },
        "id": "M1veh0QNZCyg",
        "outputId": "2497b83b-4310-447a-e887-49beb6174b6d"
      },
      "source": [
        "rosos = [] # Root of sum of squares\n",
        "for i in range(0, x.shape[1]):\n",
        "  sum = 0\n",
        "  for j in range(0, x.shape[0]):\n",
        "    sum += pow(x.loc[j].iat[i], 2)\n",
        "  fin = pow(sum, 0.5)\n",
        "  rosos.append(fin)\n",
        "rosos"
      ],
      "execution_count": null,
      "outputs": [
        {
          "output_type": "execute_result",
          "data": {
            "text/plain": [
              "[1.6149922600433726, 1.1985824961178102, 4.609978307974996, 151.7472968457758]"
            ]
          },
          "metadata": {},
          "execution_count": 3
        }
      ]
    },
    {
      "cell_type": "code",
      "metadata": {
        "colab": {
          "base_uri": "https://localhost:8080/",
          "height": 206
        },
        "id": "0nVyI1RIcNIS",
        "outputId": "748cc02f-e91c-4a67-8f5e-dfbb5fa4be2e"
      },
      "source": [
        "for i in range(0, x.shape[1]):\n",
        "  for j in range(0, x.shape[0]):\n",
        "    x.loc[j].iat[i] = (x.loc[j].iat[i])/rosos[i]\n",
        "x"
      ],
      "execution_count": null,
      "outputs": [
        {
          "output_type": "execute_result",
          "data": {
            "text/html": [
              "<div>\n",
              "<style scoped>\n",
              "    .dataframe tbody tr th:only-of-type {\n",
              "        vertical-align: middle;\n",
              "    }\n",
              "\n",
              "    .dataframe tbody tr th {\n",
              "        vertical-align: top;\n",
              "    }\n",
              "\n",
              "    .dataframe thead th {\n",
              "        text-align: right;\n",
              "    }\n",
              "</style>\n",
              "<table border=\"1\" class=\"dataframe\">\n",
              "  <thead>\n",
              "    <tr style=\"text-align: right;\">\n",
              "      <th></th>\n",
              "      <th>Corr</th>\n",
              "      <th>Rseq</th>\n",
              "      <th>RMSE</th>\n",
              "      <th>Accuracy</th>\n",
              "    </tr>\n",
              "  </thead>\n",
              "  <tbody>\n",
              "    <tr>\n",
              "      <th>0</th>\n",
              "      <td>0.489166</td>\n",
              "      <td>0.517278</td>\n",
              "      <td>0.271151</td>\n",
              "      <td>0.401259</td>\n",
              "    </tr>\n",
              "    <tr>\n",
              "      <th>1</th>\n",
              "      <td>0.408671</td>\n",
              "      <td>0.367100</td>\n",
              "      <td>0.626901</td>\n",
              "      <td>0.415625</td>\n",
              "    </tr>\n",
              "    <tr>\n",
              "      <th>2</th>\n",
              "      <td>0.346751</td>\n",
              "      <td>0.258639</td>\n",
              "      <td>0.340566</td>\n",
              "      <td>0.414307</td>\n",
              "    </tr>\n",
              "    <tr>\n",
              "      <th>3</th>\n",
              "      <td>0.507742</td>\n",
              "      <td>0.558994</td>\n",
              "      <td>0.581348</td>\n",
              "      <td>0.462545</td>\n",
              "    </tr>\n",
              "    <tr>\n",
              "      <th>4</th>\n",
              "      <td>0.464399</td>\n",
              "      <td>0.467219</td>\n",
              "      <td>0.281997</td>\n",
              "      <td>0.529762</td>\n",
              "    </tr>\n",
              "  </tbody>\n",
              "</table>\n",
              "</div>"
            ],
            "text/plain": [
              "       Corr      Rseq      RMSE  Accuracy\n",
              "0  0.489166  0.517278  0.271151  0.401259\n",
              "1  0.408671  0.367100  0.626901  0.415625\n",
              "2  0.346751  0.258639  0.340566  0.414307\n",
              "3  0.507742  0.558994  0.581348  0.462545\n",
              "4  0.464399  0.467219  0.281997  0.529762"
            ]
          },
          "metadata": {},
          "execution_count": 4
        }
      ]
    },
    {
      "cell_type": "code",
      "metadata": {
        "colab": {
          "base_uri": "https://localhost:8080/",
          "height": 206
        },
        "id": "1WAQ6hNUdGiF",
        "outputId": "e7f66405-9ea7-481b-b65d-8729857edf57"
      },
      "source": [
        "weights = [1, 1, 2, 2]\n",
        "for i in range(0, x.shape[1]):\n",
        "  for j in range(0, x.shape[0]):\n",
        "    x.loc[j].iat[i] = (x.loc[j].iat[i])*weights[i]\n",
        "x"
      ],
      "execution_count": null,
      "outputs": [
        {
          "output_type": "execute_result",
          "data": {
            "text/html": [
              "<div>\n",
              "<style scoped>\n",
              "    .dataframe tbody tr th:only-of-type {\n",
              "        vertical-align: middle;\n",
              "    }\n",
              "\n",
              "    .dataframe tbody tr th {\n",
              "        vertical-align: top;\n",
              "    }\n",
              "\n",
              "    .dataframe thead th {\n",
              "        text-align: right;\n",
              "    }\n",
              "</style>\n",
              "<table border=\"1\" class=\"dataframe\">\n",
              "  <thead>\n",
              "    <tr style=\"text-align: right;\">\n",
              "      <th></th>\n",
              "      <th>Corr</th>\n",
              "      <th>Rseq</th>\n",
              "      <th>RMSE</th>\n",
              "      <th>Accuracy</th>\n",
              "    </tr>\n",
              "  </thead>\n",
              "  <tbody>\n",
              "    <tr>\n",
              "      <th>0</th>\n",
              "      <td>0.489166</td>\n",
              "      <td>0.517278</td>\n",
              "      <td>0.542302</td>\n",
              "      <td>0.802518</td>\n",
              "    </tr>\n",
              "    <tr>\n",
              "      <th>1</th>\n",
              "      <td>0.408671</td>\n",
              "      <td>0.367100</td>\n",
              "      <td>1.253802</td>\n",
              "      <td>0.831250</td>\n",
              "    </tr>\n",
              "    <tr>\n",
              "      <th>2</th>\n",
              "      <td>0.346751</td>\n",
              "      <td>0.258639</td>\n",
              "      <td>0.681131</td>\n",
              "      <td>0.828614</td>\n",
              "    </tr>\n",
              "    <tr>\n",
              "      <th>3</th>\n",
              "      <td>0.507742</td>\n",
              "      <td>0.558994</td>\n",
              "      <td>1.162695</td>\n",
              "      <td>0.925091</td>\n",
              "    </tr>\n",
              "    <tr>\n",
              "      <th>4</th>\n",
              "      <td>0.464399</td>\n",
              "      <td>0.467219</td>\n",
              "      <td>0.563994</td>\n",
              "      <td>1.059525</td>\n",
              "    </tr>\n",
              "  </tbody>\n",
              "</table>\n",
              "</div>"
            ],
            "text/plain": [
              "       Corr      Rseq      RMSE  Accuracy\n",
              "0  0.489166  0.517278  0.542302  0.802518\n",
              "1  0.408671  0.367100  1.253802  0.831250\n",
              "2  0.346751  0.258639  0.681131  0.828614\n",
              "3  0.507742  0.558994  1.162695  0.925091\n",
              "4  0.464399  0.467219  0.563994  1.059525"
            ]
          },
          "metadata": {},
          "execution_count": 5
        }
      ]
    },
    {
      "cell_type": "code",
      "metadata": {
        "colab": {
          "base_uri": "https://localhost:8080/"
        },
        "id": "E7_UlGBIdr3v",
        "outputId": "f811492f-3207-41d5-f2be-fd0342ec0e5d"
      },
      "source": [
        "# + -> Max is best\n",
        "# - -> Min is best\n",
        "impacts = ['+', '+', '-', '+']\n",
        "vj_plus = [] # Ideal best\n",
        "vj_minus = [] # Ideal worst\n",
        "for i in range(0, x.shape[1]):\n",
        "  if (impacts[i] == '+'):\n",
        "    vj_plus.append(x.iloc[:, i].max())\n",
        "    vj_minus.append(x.iloc[:, i].min())\n",
        "  else:\n",
        "    vj_plus.append(x.iloc[:, i].min())\n",
        "    vj_minus.append(x.iloc[:, i].max())\n",
        "print(vj_plus)\n",
        "print(vj_minus)"
      ],
      "execution_count": null,
      "outputs": [
        {
          "output_type": "stream",
          "name": "stdout",
          "text": [
            "[0.5077423714575436, 0.5589936463865603, 0.5423019010035567, 1.0595246395947622]\n",
            "[0.34675088782466396, 0.25863885131318465, 1.2538019951202233, 0.8025184140431033]\n"
          ]
        }
      ]
    },
    {
      "cell_type": "code",
      "metadata": {
        "colab": {
          "base_uri": "https://localhost:8080/"
        },
        "id": "VEXspch9gMO5",
        "outputId": "56f6df46-5774-4237-f994-244aca9d1d9f"
      },
      "source": [
        "si_plus = []\n",
        "for i in range(0, x.shape[0]):\n",
        "  sum = 0\n",
        "  for j in range(0, x.shape[1]):\n",
        "    sum += pow(((x.loc[i].iat[j])-(vj_plus[j])), 2)\n",
        "  fin = pow(sum, 0.5)\n",
        "  si_plus.append(fin)\n",
        "si_plus"
      ],
      "execution_count": null,
      "outputs": [
        {
          "output_type": "execute_result",
          "data": {
            "text/plain": [
              "[0.26103157950441636,\n",
              " 0.7778044539998,\n",
              " 0.43442416609709045,\n",
              " 0.6347916561282085,\n",
              " 0.10378776937687442]"
            ]
          },
          "metadata": {},
          "execution_count": 7
        }
      ]
    },
    {
      "cell_type": "code",
      "metadata": {
        "colab": {
          "base_uri": "https://localhost:8080/"
        },
        "id": "nP5lamuVhknN",
        "outputId": "b1fe670d-eb08-4924-c698-37bd0ec0dafb"
      },
      "source": [
        "si_minus = []\n",
        "for i in range(0, x.shape[0]):\n",
        "  sum = 0\n",
        "  for j in range(0, x.shape[1]):\n",
        "    sum += pow(((x.loc[i].iat[j])-(vj_minus[j])), 2)\n",
        "  fin = pow(sum, 0.5)\n",
        "  si_minus.append(fin)\n",
        "si_minus"
      ],
      "execution_count": null,
      "outputs": [
        {
          "output_type": "execute_result",
          "data": {
            "text/plain": [
              "[0.7703302060061533,\n",
              " 0.12815410770728514,\n",
              " 0.5732650833660965,\n",
              " 0.3734375974952771,\n",
              " 0.7741019080110729]"
            ]
          },
          "metadata": {},
          "execution_count": 8
        }
      ]
    },
    {
      "cell_type": "code",
      "metadata": {
        "colab": {
          "base_uri": "https://localhost:8080/"
        },
        "id": "6hq0644xmwWN",
        "outputId": "f7ecd33f-6c2f-477d-e2c1-65a3d63f0a5c"
      },
      "source": [
        "si = []\n",
        "for i in range(len(si_plus)):\n",
        "  si.append(si_plus[i]+si_minus[i])\n",
        "si"
      ],
      "execution_count": null,
      "outputs": [
        {
          "output_type": "execute_result",
          "data": {
            "text/plain": [
              "[1.0313617855105697,\n",
              " 0.9059585617070851,\n",
              " 1.007689249463187,\n",
              " 1.0082292536234856,\n",
              " 0.8778896773879473]"
            ]
          },
          "metadata": {},
          "execution_count": 9
        }
      ]
    },
    {
      "cell_type": "code",
      "metadata": {
        "colab": {
          "base_uri": "https://localhost:8080/"
        },
        "id": "EP1jXSaAndfY",
        "outputId": "e5da42f4-0f7a-4aba-8d2b-be0f29dc5eec"
      },
      "source": [
        "pi = []\n",
        "for i in range(len(si_plus)):\n",
        "  pi.append(si_minus[i]/si[i])\n",
        "pi"
      ],
      "execution_count": null,
      "outputs": [
        {
          "output_type": "execute_result",
          "data": {
            "text/plain": [
              "[0.7469059032711841,\n",
              " 0.14145691991232595,\n",
              " 0.5688907405447506,\n",
              " 0.37038956780233845,\n",
              " 0.8817758403474089]"
            ]
          },
          "metadata": {},
          "execution_count": 10
        }
      ]
    },
    {
      "cell_type": "code",
      "metadata": {
        "colab": {
          "base_uri": "https://localhost:8080/",
          "height": 206
        },
        "id": "zJjK_hgosYd0",
        "outputId": "1d74177f-4074-4499-9fb8-4cb2c2222d3c"
      },
      "source": [
        "df[\"Topsis Score\"] = pi\n",
        "df"
      ],
      "execution_count": null,
      "outputs": [
        {
          "output_type": "execute_result",
          "data": {
            "text/html": [
              "<div>\n",
              "<style scoped>\n",
              "    .dataframe tbody tr th:only-of-type {\n",
              "        vertical-align: middle;\n",
              "    }\n",
              "\n",
              "    .dataframe tbody tr th {\n",
              "        vertical-align: top;\n",
              "    }\n",
              "\n",
              "    .dataframe thead th {\n",
              "        text-align: right;\n",
              "    }\n",
              "</style>\n",
              "<table border=\"1\" class=\"dataframe\">\n",
              "  <thead>\n",
              "    <tr style=\"text-align: right;\">\n",
              "      <th></th>\n",
              "      <th>Model</th>\n",
              "      <th>Corr</th>\n",
              "      <th>Rseq</th>\n",
              "      <th>RMSE</th>\n",
              "      <th>Accuracy</th>\n",
              "      <th>Topsis Score</th>\n",
              "    </tr>\n",
              "  </thead>\n",
              "  <tbody>\n",
              "    <tr>\n",
              "      <th>0</th>\n",
              "      <td>M1</td>\n",
              "      <td>0.79</td>\n",
              "      <td>0.62</td>\n",
              "      <td>1.25</td>\n",
              "      <td>60.89</td>\n",
              "      <td>0.746906</td>\n",
              "    </tr>\n",
              "    <tr>\n",
              "      <th>1</th>\n",
              "      <td>M2</td>\n",
              "      <td>0.66</td>\n",
              "      <td>0.44</td>\n",
              "      <td>2.89</td>\n",
              "      <td>63.07</td>\n",
              "      <td>0.141457</td>\n",
              "    </tr>\n",
              "    <tr>\n",
              "      <th>2</th>\n",
              "      <td>M3</td>\n",
              "      <td>0.56</td>\n",
              "      <td>0.31</td>\n",
              "      <td>1.57</td>\n",
              "      <td>62.87</td>\n",
              "      <td>0.568891</td>\n",
              "    </tr>\n",
              "    <tr>\n",
              "      <th>3</th>\n",
              "      <td>M4</td>\n",
              "      <td>0.82</td>\n",
              "      <td>0.67</td>\n",
              "      <td>2.68</td>\n",
              "      <td>70.19</td>\n",
              "      <td>0.370390</td>\n",
              "    </tr>\n",
              "    <tr>\n",
              "      <th>4</th>\n",
              "      <td>M5</td>\n",
              "      <td>0.75</td>\n",
              "      <td>0.56</td>\n",
              "      <td>1.30</td>\n",
              "      <td>80.39</td>\n",
              "      <td>0.881776</td>\n",
              "    </tr>\n",
              "  </tbody>\n",
              "</table>\n",
              "</div>"
            ],
            "text/plain": [
              "  Model  Corr  Rseq  RMSE  Accuracy  Topsis Score\n",
              "0    M1  0.79  0.62  1.25     60.89      0.746906\n",
              "1    M2  0.66  0.44  2.89     63.07      0.141457\n",
              "2    M3  0.56  0.31  1.57     62.87      0.568891\n",
              "3    M4  0.82  0.67  2.68     70.19      0.370390\n",
              "4    M5  0.75  0.56  1.30     80.39      0.881776"
            ]
          },
          "metadata": {},
          "execution_count": 11
        }
      ]
    },
    {
      "cell_type": "code",
      "metadata": {
        "colab": {
          "base_uri": "https://localhost:8080/",
          "height": 206
        },
        "id": "GVkVhO5_rsHm",
        "outputId": "c6fef38e-ee97-45ca-8309-fad2885c653b"
      },
      "source": [
        "df[\"Rank\"] = df[\"Topsis Score\"].rank(ascending=False)\n",
        "df"
      ],
      "execution_count": null,
      "outputs": [
        {
          "output_type": "execute_result",
          "data": {
            "text/html": [
              "<div>\n",
              "<style scoped>\n",
              "    .dataframe tbody tr th:only-of-type {\n",
              "        vertical-align: middle;\n",
              "    }\n",
              "\n",
              "    .dataframe tbody tr th {\n",
              "        vertical-align: top;\n",
              "    }\n",
              "\n",
              "    .dataframe thead th {\n",
              "        text-align: right;\n",
              "    }\n",
              "</style>\n",
              "<table border=\"1\" class=\"dataframe\">\n",
              "  <thead>\n",
              "    <tr style=\"text-align: right;\">\n",
              "      <th></th>\n",
              "      <th>Model</th>\n",
              "      <th>Corr</th>\n",
              "      <th>Rseq</th>\n",
              "      <th>RMSE</th>\n",
              "      <th>Accuracy</th>\n",
              "      <th>Topsis Score</th>\n",
              "      <th>Rank</th>\n",
              "    </tr>\n",
              "  </thead>\n",
              "  <tbody>\n",
              "    <tr>\n",
              "      <th>0</th>\n",
              "      <td>M1</td>\n",
              "      <td>0.79</td>\n",
              "      <td>0.62</td>\n",
              "      <td>1.25</td>\n",
              "      <td>60.89</td>\n",
              "      <td>0.746906</td>\n",
              "      <td>2.0</td>\n",
              "    </tr>\n",
              "    <tr>\n",
              "      <th>1</th>\n",
              "      <td>M2</td>\n",
              "      <td>0.66</td>\n",
              "      <td>0.44</td>\n",
              "      <td>2.89</td>\n",
              "      <td>63.07</td>\n",
              "      <td>0.141457</td>\n",
              "      <td>5.0</td>\n",
              "    </tr>\n",
              "    <tr>\n",
              "      <th>2</th>\n",
              "      <td>M3</td>\n",
              "      <td>0.56</td>\n",
              "      <td>0.31</td>\n",
              "      <td>1.57</td>\n",
              "      <td>62.87</td>\n",
              "      <td>0.568891</td>\n",
              "      <td>3.0</td>\n",
              "    </tr>\n",
              "    <tr>\n",
              "      <th>3</th>\n",
              "      <td>M4</td>\n",
              "      <td>0.82</td>\n",
              "      <td>0.67</td>\n",
              "      <td>2.68</td>\n",
              "      <td>70.19</td>\n",
              "      <td>0.370390</td>\n",
              "      <td>4.0</td>\n",
              "    </tr>\n",
              "    <tr>\n",
              "      <th>4</th>\n",
              "      <td>M5</td>\n",
              "      <td>0.75</td>\n",
              "      <td>0.56</td>\n",
              "      <td>1.30</td>\n",
              "      <td>80.39</td>\n",
              "      <td>0.881776</td>\n",
              "      <td>1.0</td>\n",
              "    </tr>\n",
              "  </tbody>\n",
              "</table>\n",
              "</div>"
            ],
            "text/plain": [
              "  Model  Corr  Rseq  RMSE  Accuracy  Topsis Score  Rank\n",
              "0    M1  0.79  0.62  1.25     60.89      0.746906   2.0\n",
              "1    M2  0.66  0.44  2.89     63.07      0.141457   5.0\n",
              "2    M3  0.56  0.31  1.57     62.87      0.568891   3.0\n",
              "3    M4  0.82  0.67  2.68     70.19      0.370390   4.0\n",
              "4    M5  0.75  0.56  1.30     80.39      0.881776   1.0"
            ]
          },
          "metadata": {},
          "execution_count": 12
        }
      ]
    },
    {
      "cell_type": "code",
      "metadata": {
        "id": "LRf42NHmt3k1"
      },
      "source": [
        "df.to_csv('/content/drive/MyDrive/Data Science Practical/topsis_result.csv')"
      ],
      "execution_count": null,
      "outputs": []
    }
  ]
}